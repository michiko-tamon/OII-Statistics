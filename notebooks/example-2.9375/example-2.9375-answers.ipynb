{
  "nbformat": 4,
  "nbformat_minor": 5,
  "metadata": {
    "kernelspec": {
      "display_name": "Python3 - python",
      "language": "python",
      "name": "ipython_python"
    },
    "language_info": {
      "codemirror_mode": {
        "name": "ipython",
        "version": 3
      },
      "file_extension": ".py",
      "mimetype": "text/x-python",
      "name": "python",
      "nbconvert_exporter": "python",
      "pygments_lexer": "ipython3",
      "version": "3.8.9"
    },
    "colab": {
      "name": "example-2.9375-answers.ipynb",
      "provenance": []
    }
  },
  "cells": [
    {
      "cell_type": "markdown",
      "metadata": {
        "id": "092cf3e9-0a8a-457b-b55e-514970b65365"
      },
      "source": [
        "Example 2.9375\n",
        "==============\n",
        "\n",
        "This notebook is available on github\n",
        "[here](https://github.com/aezarebski/aas-extended-examples). If you find\n",
        "errors or would like to suggest an improvement, feel free to create an\n",
        "issue.\n",
        "\n",
        "As usual we will start by importing some useful libraries."
      ],
      "id": "092cf3e9-0a8a-457b-b55e-514970b65365"
    },
    {
      "cell_type": "code",
      "metadata": {
        "id": "264d814f-b5e5-4ea2-b9b6-6f2a5d473bc1",
        "outputId": "9076694b-c6ed-4c78-f495-f5f0cfcb6f17",
        "colab": {
          "base_uri": "https://localhost:8080/"
        }
      },
      "source": [
        "%matplotlib inline\n",
        "import pandas as pd\n",
        "import numpy as np\n",
        "import scipy.stats as stats\n",
        "import statsmodels.api as sm\n",
        "import statsmodels.formula.api as smf\n",
        "import statsmodels.tools.tools as smt\n",
        "import matplotlib.pyplot as plt"
      ],
      "id": "264d814f-b5e5-4ea2-b9b6-6f2a5d473bc1",
      "execution_count": 1,
      "outputs": [
        {
          "output_type": "stream",
          "name": "stderr",
          "text": [
            "/usr/local/lib/python3.7/dist-packages/statsmodels/tools/_testing.py:19: FutureWarning: pandas.util.testing is deprecated. Use the functions in the public API at pandas.testing instead.\n",
            "  import pandas.util.testing as tm\n"
          ]
        }
      ]
    },
    {
      "cell_type": "markdown",
      "metadata": {
        "id": "df8b102d-8cf4-44c9-ad3e-9f1eda6fbc1e"
      },
      "source": [
        "# Salaries for Professors\n",
        "\n",
        "The 2008-09 nine-month academic salary for Assistant Professors, Associate Professors and Professors in a college in the U.S. The data were collected as part of the on-going effort of the college's administration to monitor salary differences between male and female faculty members.\n",
        "\n",
        "- `rank` a factor with levels `AssocProf`` `AsstProf`` `Prof`.\n",
        "- `discipline` a factor with levels `A` (\"theoretical\" departments) or ``B`` (\"applied\" departments).\n",
        "- `yrs.since.phd` years since PhD.\n",
        "- `yrs.service` years of service.\n",
        "- `sex` a factor with levels `Female` `Male`.\n",
        "- `salary` nine-month salary, in dollars.\n"
      ],
      "id": "df8b102d-8cf4-44c9-ad3e-9f1eda6fbc1e"
    },
    {
      "cell_type": "code",
      "metadata": {
        "id": "36a0698a-a5f3-41b0-b49b-65ef3eff3035"
      },
      "source": [
        "salaries_dataset = sm.datasets.get_rdataset(\"Salaries\", \"carData\")\n",
        "#print(salaries_dataset.__doc__) #get the documentation of what each variables mean \n",
        "salaries_df = salaries_dataset.data #get the data\n",
        "salaries_df = salaries_df.rename(columns={\"yrs.since.phd\": \"years_post_phd\", \"yrs.service\": \"years_service\", \"rank\": \"job\"}) #rename the columns "
      ],
      "id": "36a0698a-a5f3-41b0-b49b-65ef3eff3035",
      "execution_count": 4,
      "outputs": []
    },
    {
      "cell_type": "code",
      "metadata": {
        "id": "fb774803-47d3-4a75-8805-4d00d15513a3",
        "outputId": "3af23a8c-f9f9-4d0b-d143-4bac29adbb8f",
        "colab": {
          "base_uri": "https://localhost:8080/",
          "height": 699
        }
      },
      "source": [
        "lm_0 = smf.ols(formula=\"salary ~ years_post_phd\", data = salaries_df).fit() #linear regression on salary based on how many years after a phd\n",
        "print(lm_0.summary()) #print summary of fitted model \n",
        "plt.figure()\n",
        "plt.scatter(salaries_df.salary, salaries_df.years_post_phd) #scatter plot \n",
        "plt.show()"
      ],
      "id": "fb774803-47d3-4a75-8805-4d00d15513a3",
      "execution_count": 6,
      "outputs": [
        {
          "output_type": "stream",
          "name": "stdout",
          "text": [
            "                            OLS Regression Results                            \n",
            "==============================================================================\n",
            "Dep. Variable:                 salary   R-squared:                       0.176\n",
            "Model:                            OLS   Adj. R-squared:                  0.174\n",
            "Method:                 Least Squares   F-statistic:                     84.23\n",
            "Date:                Thu, 02 Dec 2021   Prob (F-statistic):           2.50e-18\n",
            "Time:                        11:47:32   Log-Likelihood:                -4620.9\n",
            "No. Observations:                 397   AIC:                             9246.\n",
            "Df Residuals:                     395   BIC:                             9254.\n",
            "Df Model:                           1                                         \n",
            "Covariance Type:            nonrobust                                         \n",
            "==================================================================================\n",
            "                     coef    std err          t      P>|t|      [0.025      0.975]\n",
            "----------------------------------------------------------------------------------\n",
            "Intercept       9.172e+04   2765.792     33.162      0.000    8.63e+04    9.72e+04\n",
            "years_post_phd   985.3421    107.365      9.177      0.000     774.264    1196.421\n",
            "==============================================================================\n",
            "Omnibus:                       14.453   Durbin-Watson:                   1.841\n",
            "Prob(Omnibus):                  0.001   Jarque-Bera (JB):               15.806\n",
            "Skew:                           0.403   Prob(JB):                     0.000370\n",
            "Kurtosis:                       3.552   Cond. No.                         51.6\n",
            "==============================================================================\n",
            "\n",
            "Warnings:\n",
            "[1] Standard Errors assume that the covariance matrix of the errors is correctly specified.\n"
          ]
        },
        {
          "output_type": "display_data",
          "data": {
            "image/png": "[encoded data removed]",
            "text/plain": [
              "<Figure size 432x288 with 1 Axes>"
            ]
          },
          "metadata": {
            "needs_background": "light"
          }
        }
      ]
    },
    {
      "cell_type": "markdown",
      "metadata": {
        "id": "0fbab2e6-1466-4f9b-9ae9-fafbafff7b0a"
      },
      "source": [
        "If we colour these points based on the professors' ranks a very different pattern emerges"
      ],
      "id": "0fbab2e6-1466-4f9b-9ae9-fafbafff7b0a"
    },
    {
      "cell_type": "code",
      "metadata": {
        "id": "102cfb77-6c96-4aa5-bccd-4f6cbc4dac2e",
        "outputId": "bc62ea77-78e3-476d-90cc-ae6e4cda925e",
        "colab": {
          "base_uri": "https://localhost:8080/",
          "height": 282
        }
      },
      "source": [
        "jobs = salaries_df[\"job\"].unique() #find out all the unique job ranks \n",
        "\n",
        "    \n",
        "plt.figure()\n",
        "for job in jobs: #loop through every job, and plot the same scatter plot, labeled by each point's job rank \n",
        "    tmp = salaries_df[salaries_df[\"job\"] == job] #filter for only one job rank\n",
        "    plt.scatter(tmp.years_post_phd, tmp.salary, label = job) #plot the points and label the job rank \n",
        "plt.legend(title = \"Rank\", title_fontsize = \"large\")\n",
        "plt.xlabel(\"Years post PhD\", fontsize=\"large\")\n",
        "plt.ylabel(\"Salary\", fontsize=\"large\")\n",
        "plt.show()"
      ],
      "id": "102cfb77-6c96-4aa5-bccd-4f6cbc4dac2e",
      "execution_count": 5,
      "outputs": [
        {
          "output_type": "display_data",
          "data": {
            "image/png": "[encoded data removed]",
            "text/plain": [
              "<Figure size 432x288 with 1 Axes>"
            ]
          },
          "metadata": {
            "needs_background": "light"
          }
        }
      ]
    },
    {
      "cell_type": "markdown",
      "metadata": {
        "id": "4a14f69b-d59e-4e2a-849a-ecb1f8fae2dc"
      },
      "source": [
        "### Question\n",
        "\n",
        "What assumption of the variance component model clearly does not hold for this data set?"
      ],
      "id": "4a14f69b-d59e-4e2a-849a-ecb1f8fae2dc"
    },
    {
      "cell_type": "markdown",
      "metadata": {
        "id": "14eacaf2-051a-4263-96fe-f9cc41720e66"
      },
      "source": [
        "### Answer\n",
        "\n",
        "The within group variance is differs wildly!"
      ],
      "id": "14eacaf2-051a-4263-96fe-f9cc41720e66"
    },
    {
      "cell_type": "code",
      "metadata": {
        "id": "02925208-b394-4976-94c6-c0b8c19d24ac",
        "outputId": "837a5567-0f87-48e7-c8c3-8c914a03ab4d",
        "colab": {
          "base_uri": "https://localhost:8080/"
        }
      },
      "source": [
        "for job in jobs:\n",
        "    print(job)\n",
        "    print(\"mean: \" + str(salaries_df[salaries_df[\"job\"] == job].salary.mean())) #mean for that job type\n",
        "    print(\"scale: \" + str(salaries_df[salaries_df[\"job\"] == job].salary.std())) #standard deviation for that job type"
      ],
      "id": "02925208-b394-4976-94c6-c0b8c19d24ac",
      "execution_count": 7,
      "outputs": [
        {
          "output_type": "stream",
          "name": "stdout",
          "text": [
            "Prof\n",
            "mean: 126772.1090225564\n",
            "scale: 27718.674998951574\n",
            "AsstProf\n",
            "mean: 80775.98507462686\n",
            "scale: 8174.1126373976995\n",
            "AssocProf\n",
            "mean: 93876.4375\n",
            "scale: 13831.699843745177\n"
          ]
        }
      ]
    },
    {
      "cell_type": "markdown",
      "metadata": {
        "id": "d9e09873-1ac3-47a6-8792-cabec50dda86"
      },
      "source": [
        "# Simulation\n",
        "\n",
        "Before we analyse this data we should familiarise ourselves with the functionality provided by `statsmodels`. To have a data set where we know the \"true\" values we will simulate a very similar dataset."
      ],
      "id": "d9e09873-1ac3-47a6-8792-cabec50dda86"
    },
    {
      "cell_type": "code",
      "metadata": {
        "id": "cb5c4381-9940-4c67-b84e-d0d2924b1eb2"
      },
      "source": [
        "demo_job = np.repeat(a=['Prof', 'AsstProf', 'AssocProf'], repeats=100)\n",
        "demo_ypp = np.concatenate(\n",
        "    (stats.poisson.rvs(30, size = 100),\n",
        "    stats.poisson.rvs(5, size = 100),\n",
        "    stats.poisson.rvs(15, size = 100)))\n",
        "\n",
        "demo_salary_means = [126772,80775,93876] #choose a mean where you will let your groups of salary center around \n",
        "demo_salary_scale = 15000\n",
        "demo_salary = stats.norm.rvs(loc = np.repeat(a=demo_salary_means, repeats=100), scale = demo_salary_scale, size = 300)\n",
        "\n",
        "#create a dataframe of jobs and salaries \n",
        "demo_df = pd.DataFrame({'job': demo_job,\n",
        "                      'years_post_phd': demo_ypp,\n",
        "                       'salary': demo_salary})\n",
        "demo_df = smt.add_constant(demo_df)\n",
        "\n",
        "jobs = demo_df[\"job\"].unique()"
      ],
      "id": "cb5c4381-9940-4c67-b84e-d0d2924b1eb2",
      "execution_count": null,
      "outputs": []
    },
    {
      "cell_type": "code",
      "metadata": {
        "id": "4f9001fc-e9a7-462f-be51-b46aea80e3a9",
        "outputId": "aeeca816-4e07-49f0-e154-e979e6c5b072"
      },
      "source": [
        "#plot in the same way as before, with simulated data instead \n",
        "plt.figure()\n",
        "for job in jobs:\n",
        "    tmp = demo_df[demo_df[\"job\"] == job]\n",
        "    plt.scatter(tmp.years_post_phd, tmp.salary, label = job)\n",
        "plt.title(\"Simulated data\")\n",
        "plt.legend(title = \"Rank\", title_fontsize = \"large\")\n",
        "plt.xlabel(\"Years post PhD\", fontsize=\"large\")\n",
        "plt.ylabel(\"Salary\", fontsize=\"large\")\n",
        "plt.show()"
      ],
      "id": "4f9001fc-e9a7-462f-be51-b46aea80e3a9",
      "execution_count": null,
      "outputs": [
        {
          "data": {
            "image/png": "[encoded data removed]",
            "text/plain": [
              "<Figure size 432x288 with 1 Axes>"
            ]
          },
          "metadata": {
            "needs_background": "light"
          },
          "output_type": "display_data"
        }
      ]
    },
    {
      "cell_type": "markdown",
      "metadata": {
        "id": "3c1959ad-f84f-4520-a761-046ea2e4408b"
      },
      "source": [
        "### Question\n",
        "\n",
        "As a way to get a rough idea of the components of the variance, estimate the variance among the known means and use it to compute the variance partition coefficient (VPC) for the simulated dataset. Obviously since we are estimating the variance based on a data set of size 3 we should not put too much faith in the results."
      ],
      "id": "3c1959ad-f84f-4520-a761-046ea2e4408b"
    },
    {
      "cell_type": "markdown",
      "metadata": {
        "id": "b0a8eb04-d0ae-4308-9a18-291903285028"
      },
      "source": [
        "### Answer"
      ],
      "id": "b0a8eb04-d0ae-4308-9a18-291903285028"
    },
    {
      "cell_type": "code",
      "metadata": {
        "id": "40bf48b0-4916-4236-9f69-23b0ed0597ea",
        "outputId": "88c5bd0c-618a-4cd5-f3c3-738814dd2d6e"
      },
      "source": [
        "tmp = np.array(demo_salary_means)\n",
        "silly_group_var_est = 0.5 * np.power(tmp - tmp.mean(), 2).sum()\n",
        "print(silly_group_var_est / (demo_salary_scale**2 + silly_group_var_est)) #ball park estimate on the varianve between the means of each group"
      ],
      "id": "40bf48b0-4916-4236-9f69-23b0ed0597ea",
      "execution_count": null,
      "outputs": [
        {
          "name": "stdout",
          "output_type": "stream",
          "text": [
            "0.7139531750746885\n"
          ]
        }
      ]
    },
    {
      "cell_type": "markdown",
      "metadata": {
        "tags": [],
        "id": "a1db6337-a731-4443-879d-556060ff106d"
      },
      "source": [
        "To do MLM we need some additional libraries. The `MixedLM` class ([link](https://www.statsmodels.org/stable/generated/statsmodels.regression.mixed_linear_model.MixedLM.html#statsmodels.regression.mixed_linear_model.MixedLM)) is the one we will be interested in."
      ],
      "id": "a1db6337-a731-4443-879d-556060ff106d"
    },
    {
      "cell_type": "code",
      "metadata": {
        "tags": [],
        "id": "870fc363-6883-40af-ba46-377123e9889c"
      },
      "source": [
        "import statsmodels.regression.mixed_linear_model as mlm #mixed linear model "
      ],
      "id": "870fc363-6883-40af-ba46-377123e9889c",
      "execution_count": null,
      "outputs": []
    },
    {
      "cell_type": "markdown",
      "metadata": {
        "id": "0835310a-a6b1-4056-af8a-7eaaa3a14d60"
      },
      "source": [
        "### Question\n",
        "\n",
        "Write down a way to describe the salaries with a variance components model. What parameters will be estimated?"
      ],
      "id": "0835310a-a6b1-4056-af8a-7eaaa3a14d60"
    },
    {
      "cell_type": "markdown",
      "metadata": {
        "id": "1ee6bc29-5faf-4114-8211-d0f8df950bda"
      },
      "source": [
        "### Answer\n",
        "\n",
        "Let $s_{ij}$ be the salary of individual $i$ with job $j$ then\n",
        "\n",
        "$$\n",
        "s_{ij} = \\beta_{0} + u_{j} + e_{ij}\n",
        "$$\n",
        "\n",
        "where $u_{j} \\sim N(0, \\sigma_{u}^{2})$ and $e_{ij} \\sim N(0, \\sigma_{e}^{2})$.\n",
        "\n",
        "The parameters that will be estimated are $\\beta_{0}$, and $\\sigma_{u}^{2}$ and $\\sigma_{e}^{2}$."
      ],
      "id": "1ee6bc29-5faf-4114-8211-d0f8df950bda"
    },
    {
      "cell_type": "markdown",
      "metadata": {
        "id": "ff56b6ce-03ae-4f35-a652-a030b59c07e9"
      },
      "source": [
        "### Question\n",
        "\n",
        "The following cell fits this model to the data. What are the estimated parameter values?\n",
        "\n",
        "Hint: Due to an odd choice of names, the \"Scale\" parameter in the summary is the individual level variance."
      ],
      "id": "ff56b6ce-03ae-4f35-a652-a030b59c07e9"
    },
    {
      "cell_type": "code",
      "metadata": {
        "id": "98a5b84a-ef2b-4051-b0d9-6095476ca878",
        "outputId": "b6cbbe44-fe57-4fca-9689-bb3520aba19f"
      },
      "source": [
        "#endogenous = what you want to predict; exogeneous = what you will use to predict\n",
        "mlm_0 = mlm.MixedLM(endog = demo_df.salary, exog = demo_df[[\"const\"]], groups = demo_df.job).fit()  \n",
        "mlm_0.summary()"
      ],
      "id": "98a5b84a-ef2b-4051-b0d9-6095476ca878",
      "execution_count": null,
      "outputs": [
        {
          "data": {
            "text/html": [
              "<table class=\"simpletable\">\n",
              "<tr>\n",
              "       <td>Model:</td>       <td>MixedLM</td> <td>Dependent Variable:</td>     <td>salary</td>    \n",
              "</tr>\n",
              "<tr>\n",
              "  <td>No. Observations:</td>   <td>300</td>         <td>Method:</td>            <td>REML</td>     \n",
              "</tr>\n",
              "<tr>\n",
              "     <td>No. Groups:</td>       <td>3</td>          <td>Scale:</td>        <td>204305624.3905</td>\n",
              "</tr>\n",
              "<tr>\n",
              "  <td>Min. group size:</td>    <td>100</td>     <td>Log-Likelihood:</td>     <td>-3293.4138</td>  \n",
              "</tr>\n",
              "<tr>\n",
              "  <td>Max. group size:</td>    <td>100</td>       <td>Converged:</td>            <td>Yes</td>     \n",
              "</tr>\n",
              "<tr>\n",
              "  <td>Mean group size:</td>   <td>100.0</td>           <td></td>                  <td></td>       \n",
              "</tr>\n",
              "</table>\n",
              "<table class=\"simpletable\">\n",
              "<tr>\n",
              "      <td></td>          <th>Coef.</th>     <th>Std.Err.</th>    <th>z</th>   <th>P>|z|</th>  <th>[0.025</th>     <th>0.975]</th>  \n",
              "</tr>\n",
              "<tr>\n",
              "  <th>const</th>      <td>100587.861</td>   <td>13555.156</td> <td>7.421</td> <td>0.000</td> <td>74020.244</td> <td>127155.478</td>\n",
              "</tr>\n",
              "<tr>\n",
              "  <th>Group Var</th> <td>549183677.025</td> <td>38655.470</td>   <td></td>      <td></td>        <td></td>           <td></td>     \n",
              "</tr>\n",
              "</table>"
            ],
            "text/plain": [
              "<class 'statsmodels.iolib.summary2.Summary'>\n",
              "\"\"\"\n",
              "              Mixed Linear Model Regression Results\n",
              "==================================================================\n",
              "Model:              MixedLM   Dependent Variable:   salary        \n",
              "No. Observations:   300       Method:               REML          \n",
              "No. Groups:         3         Scale:                204305624.3905\n",
              "Min. group size:    100       Log-Likelihood:       -3293.4138    \n",
              "Max. group size:    100       Converged:            Yes           \n",
              "Mean group size:    100.0                                         \n",
              "------------------------------------------------------------------\n",
              "              Coef.      Std.Err.   z   P>|z|   [0.025    0.975]  \n",
              "------------------------------------------------------------------\n",
              "const        100587.861 13555.156 7.421 0.000 74020.244 127155.478\n",
              "Group Var 549183677.025 38655.470                                 \n",
              "==================================================================\n",
              "\n",
              "\"\"\""
            ]
          },
          "execution_count": 10,
          "metadata": {},
          "output_type": "execute_result"
        }
      ]
    },
    {
      "cell_type": "markdown",
      "metadata": {
        "id": "85ad6e55-18a9-4eb6-b25d-2c24e0e6d289"
      },
      "source": [
        "### Answer\n",
        "\n",
        "- $\\hat{\\beta}_{0} = 1.005 \\times 10^{5}$\n",
        "- $\\hat{\\sigma}_{u}^{2} = 5.482 \\times 10^{8}$\n",
        "- $\\hat{\\sigma}_{e}^{2} = 2.333 \\times 10^{8}$"
      ],
      "id": "85ad6e55-18a9-4eb6-b25d-2c24e0e6d289"
    },
    {
      "cell_type": "markdown",
      "metadata": {
        "id": "95842b42-97ba-47cf-82ca-2128423a22dd"
      },
      "source": [
        "### Question\n",
        "\n",
        "Does this look reasonable?"
      ],
      "id": "95842b42-97ba-47cf-82ca-2128423a22dd"
    },
    {
      "cell_type": "markdown",
      "metadata": {
        "id": "05b2cfc7-888e-496f-baef-f6a659588205"
      },
      "source": [
        "### Answer\n",
        "\n",
        "The value of $\\beta_{0}$ looks reasonable and the individual level variance is approximately correct."
      ],
      "id": "05b2cfc7-888e-496f-baef-f6a659588205"
    },
    {
      "cell_type": "code",
      "metadata": {
        "id": "5aa7b062-b9ac-4be0-8350-69c761695a9c",
        "outputId": "68e9e864-2e1e-45d9-8051-32edb72e14a2"
      },
      "source": [
        "# truth is 15,000\n",
        "individual_var_est = mlm_0.scale\n",
        "print(np.sqrt(individual_var_est)) #estimated variance \n",
        "print(demo_salary_scale) #real variance "
      ],
      "id": "5aa7b062-b9ac-4be0-8350-69c761695a9c",
      "execution_count": null,
      "outputs": [
        {
          "name": "stdout",
          "output_type": "stream",
          "text": [
            "14293.551846568334\n",
            "15000\n"
          ]
        }
      ]
    },
    {
      "cell_type": "markdown",
      "metadata": {
        "id": "e848caac-30a0-48b9-abb6-c2c082d730ac"
      },
      "source": [
        "### Question\n",
        "\n",
        "Compute the VPC from the model fit. Does it agree with the previous estimate?"
      ],
      "id": "e848caac-30a0-48b9-abb6-c2c082d730ac"
    },
    {
      "cell_type": "markdown",
      "metadata": {
        "id": "c9a9cd2e-892a-411b-8aa4-7676ee9ec729"
      },
      "source": [
        "### Answer \n",
        "\n",
        "Yes"
      ],
      "id": "c9a9cd2e-892a-411b-8aa4-7676ee9ec729"
    },
    {
      "cell_type": "code",
      "metadata": {
        "id": "71e19c12-8a8e-4940-9be3-be87b7354b0d",
        "outputId": "cdc2bf29-d03c-4f01-b827-bc40bb3ff0dd"
      },
      "source": [
        "group_var = float(mlm_0.summary().tables[1][\"Coef.\"][\"Group Var\"])\n",
        "vpc = group_var / (group_var + individual_var_est) #look at group variance as a fraction of overall variance \n",
        "print(vpc) #similar to our ball park estimate "
      ],
      "id": "71e19c12-8a8e-4940-9be3-be87b7354b0d",
      "execution_count": null,
      "outputs": [
        {
          "name": "stdout",
          "output_type": "stream",
          "text": [
            "0.7288539810628767\n"
          ]
        }
      ]
    },
    {
      "cell_type": "markdown",
      "metadata": {
        "id": "e71bf9c4-9b0f-45cb-a2cc-7c3ec9b52f11"
      },
      "source": [
        "### Question\n",
        "\n",
        "Test whether including the effects of job is important in this model."
      ],
      "id": "e71bf9c4-9b0f-45cb-a2cc-7c3ec9b52f11"
    },
    {
      "cell_type": "markdown",
      "metadata": {
        "id": "255497d1-5637-4bb7-86a3-b17c2a10d0c8"
      },
      "source": [
        "### Answer\n",
        "\n",
        "The case of no job level effect is a nested model so we can use a chi-squared test to reject the null hypothesis that there is no random effect at the job level. Ho: There is no effect of job rank on salaries Ha: There is an effect of job rank on salaries. "
      ],
      "id": "255497d1-5637-4bb7-86a3-b17c2a10d0c8"
    },
    {
      "cell_type": "code",
      "metadata": {
        "id": "75b1f09c-c385-4896-9b47-3f9bb0095a3e",
        "outputId": "cd3bb421-3946-4e1a-bfe6-16f10c27441b"
      },
      "source": [
        "lm_1 = smf.ols(formula = \"salary ~ 1\", data = demo_df).fit()\n",
        "mlm_llhd = mlm_0.llf\n",
        "print(\"MLM log-likelihood\")\n",
        "print(mlm_llhd)\n",
        "\n",
        "lm_llhd = lm_1.llf\n",
        "print(\"LM log-likelihood\")\n",
        "print(lm_llhd)\n",
        "\n",
        "my_chi = -2 * (lm_llhd - mlm_llhd) #degree of freedom is the number of parameter we have to take away for the hypothesis testing? \n",
        "print(\"Chi-squared statistic\") #big chi squared meaning difference between groups variance is significant \n",
        "print(my_chi)\n",
        "\n",
        "print(\"p-value\")\n",
        "print(1 - stats.chi2.cdf(my_chi, df=1)) #reject the null hypothesis, job rank has an effect on salaries"
      ],
      "id": "75b1f09c-c385-4896-9b47-3f9bb0095a3e",
      "execution_count": null,
      "outputs": [
        {
          "name": "stdout",
          "output_type": "stream",
          "text": [
            "MLM log-likelihood\n",
            "-3293.4137866637348\n",
            "LM log-likelihood\n",
            "-3449.8839709259773\n",
            "Chi-squared statistic\n",
            "312.94036852448517\n",
            "p-value\n",
            "0.0\n"
          ]
        }
      ]
    },
    {
      "cell_type": "markdown",
      "metadata": {
        "id": "dd7b3ed8-0f15-4430-990a-95f57d6f9c15"
      },
      "source": [
        "### Question \n",
        "\n",
        "Fit the model including the `years_post_phd` as a covariate. Does this parameter have a significant association?"
      ],
      "id": "dd7b3ed8-0f15-4430-990a-95f57d6f9c15"
    },
    {
      "cell_type": "markdown",
      "metadata": {
        "id": "50c01f5d-dc3a-4458-85f7-977f4ef3aa8c"
      },
      "source": [
        "### Answer\n",
        "\n",
        "No, as expected since the salaries were simulated independent of this value (given the job)."
      ],
      "id": "50c01f5d-dc3a-4458-85f7-977f4ef3aa8c"
    },
    {
      "cell_type": "code",
      "metadata": {
        "id": "067d4b67-5775-4dd5-835f-f7c1ec553e2b",
        "outputId": "84f3b2aa-c93d-4553-9aa6-022b01539774"
      },
      "source": [
        "mlm_1 = mlm.MixedLM(endog = demo_df.salary, exog = demo_df[[\"const\", \"years_post_phd\"]], groups = demo_df.job).fit()\n",
        "mlm_1.summary()\n",
        "#years post phd has a big p value (low z) so it is not significant in determining salaries "
      ],
      "id": "067d4b67-5775-4dd5-835f-f7c1ec553e2b",
      "execution_count": null,
      "outputs": [
        {
          "data": {
            "text/html": [
              "<table class=\"simpletable\">\n",
              "<tr>\n",
              "       <td>Model:</td>       <td>MixedLM</td> <td>Dependent Variable:</td>     <td>salary</td>    \n",
              "</tr>\n",
              "<tr>\n",
              "  <td>No. Observations:</td>   <td>300</td>         <td>Method:</td>            <td>REML</td>     \n",
              "</tr>\n",
              "<tr>\n",
              "     <td>No. Groups:</td>       <td>3</td>          <td>Scale:</td>        <td>204129652.9008</td>\n",
              "</tr>\n",
              "<tr>\n",
              "  <td>Min. group size:</td>    <td>100</td>     <td>Log-Likelihood:</td>     <td>-3286.6798</td>  \n",
              "</tr>\n",
              "<tr>\n",
              "  <td>Max. group size:</td>    <td>100</td>       <td>Converged:</td>            <td>Yes</td>     \n",
              "</tr>\n",
              "<tr>\n",
              "  <td>Mean group size:</td>   <td>100.0</td>           <td></td>                  <td></td>       \n",
              "</tr>\n",
              "</table>\n",
              "<table class=\"simpletable\">\n",
              "<tr>\n",
              "         <td></td>            <th>Coef.</th>     <th>Std.Err.</th>     <th>z</th>   <th>P>|z|</th>  <th>[0.025</th>     <th>0.975]</th>  \n",
              "</tr>\n",
              "<tr>\n",
              "  <th>const</th>           <td>104021.255</td>   <td>15651.341</td>  <td>6.646</td> <td>0.000</td> <td>73345.190</td> <td>134697.320</td>\n",
              "</tr>\n",
              "<tr>\n",
              "  <th>years_post_phd</th>   <td>-206.956</td>     <td>229.920</td>  <td>-0.900</td> <td>0.368</td> <td>-657.591</td>    <td>243.680</td> \n",
              "</tr>\n",
              "<tr>\n",
              "  <th>Group Var</th>      <td>689203694.272</td> <td>49734.689</td>    <td></td>      <td></td>        <td></td>           <td></td>     \n",
              "</tr>\n",
              "</table>"
            ],
            "text/plain": [
              "<class 'statsmodels.iolib.summary2.Summary'>\n",
              "\"\"\"\n",
              "                 Mixed Linear Model Regression Results\n",
              "========================================================================\n",
              "Model:                MixedLM     Dependent Variable:     salary        \n",
              "No. Observations:     300         Method:                 REML          \n",
              "No. Groups:           3           Scale:                  204129652.9008\n",
              "Min. group size:      100         Log-Likelihood:         -3286.6798    \n",
              "Max. group size:      100         Converged:              Yes           \n",
              "Mean group size:      100.0                                             \n",
              "------------------------------------------------------------------------\n",
              "                   Coef.      Std.Err.   z    P>|z|   [0.025    0.975]  \n",
              "------------------------------------------------------------------------\n",
              "const             104021.255 15651.341  6.646 0.000 73345.190 134697.320\n",
              "years_post_phd      -206.956   229.920 -0.900 0.368  -657.591    243.680\n",
              "Group Var      689203694.272 49734.689                                  \n",
              "========================================================================\n",
              "\n",
              "\"\"\""
            ]
          },
          "execution_count": 14,
          "metadata": {},
          "output_type": "execute_result"
        }
      ]
    },
    {
      "cell_type": "markdown",
      "metadata": {
        "id": "613ffb3a-7af4-4b2f-96cf-8591024be43a"
      },
      "source": [
        "### Question\n",
        "\n",
        "Apply the methodology above to establish if `years_post_phd` has a significant association with a Professor's salary while adjusting for random job-specific effects."
      ],
      "id": "613ffb3a-7af4-4b2f-96cf-8591024be43a"
    },
    {
      "cell_type": "markdown",
      "metadata": {
        "id": "33b2fb03-ad8c-473c-bc3c-0e31fb703c5c"
      },
      "source": [
        "### Answer\n",
        "\n",
        "This model does not find a significant correlation"
      ],
      "id": "33b2fb03-ad8c-473c-bc3c-0e31fb703c5c"
    },
    {
      "cell_type": "code",
      "metadata": {
        "id": "89c7066a-f7b2-4eee-8a58-05616b9cd1db",
        "outputId": "c65aa353-4a2b-4a68-8269-f8b2cf34343b"
      },
      "source": [
        "data_df = smt.add_constant(salaries_df) #add a constant to the df's first column \n",
        "data_df[[\"const\", \"years_post_phd\"]].head() \n",
        "\n",
        "mlm_1 = mlm.MixedLM(endog = data_df.salary, exog = data_df[[\"const\", \"years_post_phd\"]], groups = data_df.job).fit() #different linear model for each group\n",
        "\n",
        "mlm_1.summary() #p value is still big (small z) so it is not significant "
      ],
      "id": "89c7066a-f7b2-4eee-8a58-05616b9cd1db",
      "execution_count": null,
      "outputs": [
        {
          "data": {
            "text/html": [
              "<table class=\"simpletable\">\n",
              "<tr>\n",
              "       <td>Model:</td>       <td>MixedLM</td> <td>Dependent Variable:</td>     <td>salary</td>    \n",
              "</tr>\n",
              "<tr>\n",
              "  <td>No. Observations:</td>   <td>397</td>         <td>Method:</td>            <td>REML</td>     \n",
              "</tr>\n",
              "<tr>\n",
              "     <td>No. Groups:</td>       <td>3</td>          <td>Scale:</td>        <td>559427686.2493</td>\n",
              "</tr>\n",
              "<tr>\n",
              "  <td>Min. group size:</td>    <td>64</td>      <td>Log-Likelihood:</td>     <td>-4551.4182</td>  \n",
              "</tr>\n",
              "<tr>\n",
              "  <td>Max. group size:</td>    <td>266</td>       <td>Converged:</td>            <td>Yes</td>     \n",
              "</tr>\n",
              "<tr>\n",
              "  <td>Mean group size:</td>   <td>132.3</td>           <td></td>                  <td></td>       \n",
              "</tr>\n",
              "</table>\n",
              "<table class=\"simpletable\">\n",
              "<tr>\n",
              "         <td></td>            <th>Coef.</th>     <th>Std.Err.</th>     <th>z</th>   <th>P>|z|</th>  <th>[0.025</th>     <th>0.975]</th>  \n",
              "</tr>\n",
              "<tr>\n",
              "  <th>const</th>           <td>101625.056</td>   <td>14327.729</td>  <td>7.093</td> <td>0.000</td> <td>73543.223</td> <td>129706.889</td>\n",
              "</tr>\n",
              "<tr>\n",
              "  <th>years_post_phd</th>    <td>-64.770</td>     <td>129.922</td>  <td>-0.499</td> <td>0.618</td> <td>-319.413</td>    <td>189.874</td> \n",
              "</tr>\n",
              "<tr>\n",
              "  <th>Group Var</th>      <td>596087722.791</td> <td>25613.757</td>    <td></td>      <td></td>        <td></td>           <td></td>     \n",
              "</tr>\n",
              "</table>"
            ],
            "text/plain": [
              "<class 'statsmodels.iolib.summary2.Summary'>\n",
              "\"\"\"\n",
              "                 Mixed Linear Model Regression Results\n",
              "========================================================================\n",
              "Model:                MixedLM     Dependent Variable:     salary        \n",
              "No. Observations:     397         Method:                 REML          \n",
              "No. Groups:           3           Scale:                  559427686.2493\n",
              "Min. group size:      64          Log-Likelihood:         -4551.4182    \n",
              "Max. group size:      266         Converged:              Yes           \n",
              "Mean group size:      132.3                                             \n",
              "------------------------------------------------------------------------\n",
              "                   Coef.      Std.Err.   z    P>|z|   [0.025    0.975]  \n",
              "------------------------------------------------------------------------\n",
              "const             101625.056 14327.729  7.093 0.000 73543.223 129706.889\n",
              "years_post_phd       -64.770   129.922 -0.499 0.618  -319.413    189.874\n",
              "Group Var      596087722.791 25613.757                                  \n",
              "========================================================================\n",
              "\n",
              "\"\"\""
            ]
          },
          "execution_count": 15,
          "metadata": {},
          "output_type": "execute_result"
        }
      ]
    },
    {
      "cell_type": "markdown",
      "metadata": {
        "id": "228f0dc8-33dd-4e4b-a8eb-f98ec4c4226a"
      },
      "source": [
        "### Question\n",
        "\n",
        "How much of the variance is explained by the professors rank?\n",
        "\n",
        "### Answer"
      ],
      "id": "228f0dc8-33dd-4e4b-a8eb-f98ec4c4226a"
    },
    {
      "cell_type": "code",
      "metadata": {
        "id": "f3d8d777-586c-463a-b8ab-c28d8749084a",
        "outputId": "dfa59ec0-ece2-4a75-d1ff-e8606ed023b9"
      },
      "source": [
        "596087722.791 / (559427686.2493 + 596087722.791)"
      ],
      "id": "f3d8d777-586c-463a-b8ab-c28d8749084a",
      "execution_count": null,
      "outputs": [
        {
          "data": {
            "text/plain": [
              "0.5158630669287863"
            ]
          },
          "execution_count": 16,
          "metadata": {},
          "output_type": "execute_result"
        }
      ]
    },
    {
      "cell_type": "code",
      "metadata": {
        "id": "9d0b32c4-5e68-4fdb-8030-fcbfd1918865"
      },
      "source": [
        ""
      ],
      "id": "9d0b32c4-5e68-4fdb-8030-fcbfd1918865",
      "execution_count": null,
      "outputs": []
    }
  ]
}
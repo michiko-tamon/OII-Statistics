{
  "nbformat": 4,
  "nbformat_minor": 5,
  "metadata": {
    "kernelspec": {
      "display_name": "Python3 - python",
      "language": "python",
      "name": "ipython_python"
    },
    "language_info": {
      "codemirror_mode": {
        "name": "ipython",
        "version": 3
      },
      "file_extension": ".py",
      "mimetype": "text/x-python",
      "name": "python",
      "nbconvert_exporter": "python",
      "pygments_lexer": "ipython3",
      "version": "3.8.9"
    },
    "colab": {
      "name": "example-2.875-answers.ipynb",
      "provenance": []
    }
  },
  "cells": [
    {
      "cell_type": "markdown",
      "metadata": {
        "id": "983bcf18-15e5-4d8f-b3e0-d4d8bf52287c"
      },
      "source": [
        "Example 2.875\n",
        "============\n",
        "\n",
        "This notebook is available on github\n",
        "[here](https://github.com/aezarebski/aas-extended-examples). If you find\n",
        "errors or would like to suggest an improvement, feel free to create an\n",
        "issue.\n",
        "\n",
        "As usual we will start by importing some useful libraries."
      ],
      "id": "983bcf18-15e5-4d8f-b3e0-d4d8bf52287c"
    },
    {
      "cell_type": "code",
      "metadata": {
        "colab": {
          "base_uri": "https://localhost:8080/"
        },
        "id": "dc37adb0-f888-41ef-bbf1-d06dc7c89b24",
        "outputId": "e59dd23f-c774-4522-d03f-b2dbc794032d"
      },
      "source": [
        "%matplotlib inline\n",
        "import pandas as pd\n",
        "import numpy as np\n",
        "import scipy.stats as stats\n",
        "import statsmodels.api as sm\n",
        "import statsmodels.formula.api as smf\n",
        "import matplotlib.pyplot as plt"
      ],
      "id": "dc37adb0-f888-41ef-bbf1-d06dc7c89b24",
      "execution_count": 1,
      "outputs": [
        {
          "output_type": "stream",
          "name": "stderr",
          "text": [
            "/usr/local/lib/python3.7/dist-packages/statsmodels/tools/_testing.py:19: FutureWarning: pandas.util.testing is deprecated. Use the functions in the public API at pandas.testing instead.\n",
            "  import pandas.util.testing as tm\n"
          ]
        }
      ]
    },
    {
      "cell_type": "markdown",
      "metadata": {
        "id": "05477a0f-2b1d-4682-83ef-a4d49dac2d4c"
      },
      "source": [
        "In this notebook we will look at data on the mode of travel chosen by people travelling between Sydney and Melbourne (Australia). Relevant variables for us in this dataset are the mode of travel chosen: air, bus, car or train, the travel time, the generalised cost of the journey, the income of the household travelling and the number of people travelling together."
      ],
      "id": "05477a0f-2b1d-4682-83ef-a4d49dac2d4c"
    },
    {
      "cell_type": "code",
      "metadata": {
        "id": "50945dac-5eec-4aa3-a0a7-e196b25ded39"
      },
      "source": [
        "travel_dataset = sm.datasets.get_rdataset(\"TravelMode\", \"AER\")\n",
        "#print(travel_dataset.__doc__)\n",
        "travel_df = travel_dataset.data"
      ],
      "id": "50945dac-5eec-4aa3-a0a7-e196b25ded39",
      "execution_count": 2,
      "outputs": []
    },
    {
      "cell_type": "markdown",
      "metadata": {
        "id": "96ea37e2-4242-446f-9c33-b3220193d30b"
      },
      "source": [
        "### Question\n",
        "\n",
        "What units is `income` in?"
      ],
      "id": "96ea37e2-4242-446f-9c33-b3220193d30b"
    },
    {
      "cell_type": "markdown",
      "metadata": {
        "id": "9ef5340f-3944-4f2a-9089-1d8513f7c0ff"
      },
      "source": [
        "### Answer\n",
        "\n",
        "Although it doesn't state it explicitly in the meta-data, it appears this is a measure of the income in thousands of Australian dollars since this is on the order of the national average."
      ],
      "id": "9ef5340f-3944-4f2a-9089-1d8513f7c0ff"
    },
    {
      "cell_type": "markdown",
      "metadata": {
        "id": "40af2b41-fe24-480a-b10f-c145f88e2eda"
      },
      "source": [
        "As a first pass we will look at modelling whether the selected mode was a train or car. The following snippet puts the data in a more tidy format for our analysis. Note that we have added a new variable, `is_car`, which is 1 if the travel was done by car and 0 if it was done by train."
      ],
      "id": "40af2b41-fe24-480a-b10f-c145f88e2eda"
    },
    {
      "cell_type": "code",
      "metadata": {
        "colab": {
          "base_uri": "https://localhost:8080/"
        },
        "id": "a70ee847-5da0-4b04-817f-13d19636e562",
        "outputId": "a8201fd8-790b-4b59-f7ed-9e0eafeaab24"
      },
      "source": [
        "#cleaning df\n",
        "cb_df = travel_df[(travel_df[\"mode\"] == \"train\") | (travel_df[\"mode\"] == \"car\")] #check if travel mode is car or train\n",
        "cb_df = cb_df[cb_df[\"choice\"] == \"yes\"] #only choose if choice is above is car or train \"yes\" from above\n",
        "cb_df = cb_df[[\"mode\", \"income\", \"size\"]]\n",
        "cb_df = cb_df.rename(columns={\"mode\": \"vehicle\", \"size\": \"num_people\"})\n",
        "\n",
        "predictor_names = [\"income\", \"num_people\"]\n",
        "\n",
        "cb_df[\"is_car\"] = 0 #set all variable to 0\n",
        "cb_df.loc[cb_df[\"vehicle\"] == \"car\",\"is_car\"] = 1 #if the vehicle is car change it to 1  \n",
        "print(cb_df.head(10))"
      ],
      "id": "a70ee847-5da0-4b04-817f-13d19636e562",
      "execution_count": 3,
      "outputs": [
        {
          "output_type": "stream",
          "name": "stdout",
          "text": [
            "   vehicle  income  num_people  is_car\n",
            "3      car      35           1       1\n",
            "7      car      30           2       1\n",
            "11     car      40           1       1\n",
            "15     car      70           3       1\n",
            "19     car      45           2       1\n",
            "21   train      20           1       0\n",
            "31     car      12           1       1\n",
            "35     car      40           1       1\n",
            "39     car      70           2       1\n",
            "43     car      15           2       1\n"
          ]
        }
      ]
    },
    {
      "cell_type": "markdown",
      "metadata": {
        "id": "73c388c9-feb9-4e26-b3fb-2d34651a93f9"
      },
      "source": [
        "### Question\n",
        "\n",
        "Generate visualisations to see how the distribution of income among car and train trips. What do you notice?\n",
        "\n",
        "[hint](https://aezarebski.github.io/misc/matplotlib/gallery.html#fig-06)"
      ],
      "id": "73c388c9-feb9-4e26-b3fb-2d34651a93f9"
    },
    {
      "cell_type": "markdown",
      "metadata": {
        "id": "1d5abe6e-1d70-42d1-ab55-48c5954cac57"
      },
      "source": [
        "### Answer\n",
        "\n",
        "As the boxplots below show journeys by car are more likely to have individuals from households with a larger income and be a larger group."
      ],
      "id": "1d5abe6e-1d70-42d1-ab55-48c5954cac57"
    },
    {
      "cell_type": "code",
      "metadata": {
        "tags": [],
        "colab": {
          "base_uri": "https://localhost:8080/"
        },
        "id": "74eed3d2-13da-4575-856a-99ccbd61f435",
        "outputId": "c806f92a-f09c-46db-e577-f0659198c8ef"
      },
      "source": [
        "print(cb_df.shape)\n",
        "#cb_df.head(20)\n",
        "unique_vehicles = cb_df.vehicle.unique() #cars or trains \n",
        "grouped_values = {p : [cb_df[cb_df.vehicle == v][p] for v in unique_vehicles] for p in predictor_names}"
      ],
      "id": "74eed3d2-13da-4575-856a-99ccbd61f435",
      "execution_count": 4,
      "outputs": [
        {
          "output_type": "stream",
          "name": "stdout",
          "text": [
            "(122, 4)\n"
          ]
        }
      ]
    },
    {
      "cell_type": "code",
      "metadata": {
        "colab": {
          "base_uri": "https://localhost:8080/",
          "height": 336
        },
        "id": "21b2390f-3645-4325-a776-42797e4b48b3",
        "outputId": "ce9dad8d-ff23-49d2-e32f-27dbca4c51fe"
      },
      "source": [
        "plt.figure()\n",
        "plt.boxplot(x = grouped_values[\"income\"], #boxplot with income as y axis\n",
        "           labels = unique_vehicles) #boxplot split by car and train, group by unique values in the column \n",
        "plt.title(\"Traveller income\")\n",
        "plt.show()"
      ],
      "id": "21b2390f-3645-4325-a776-42797e4b48b3",
      "execution_count": 5,
      "outputs": [
        {
          "output_type": "stream",
          "name": "stderr",
          "text": [
            "/usr/local/lib/python3.7/dist-packages/numpy/core/_asarray.py:83: VisibleDeprecationWarning: Creating an ndarray from ragged nested sequences (which is a list-or-tuple of lists-or-tuples-or ndarrays with different lengths or shapes) is deprecated. If you meant to do this, you must specify 'dtype=object' when creating the ndarray\n",
            "  return array(a, dtype, copy=False, order=order)\n"
          ]
        },
        {
          "output_type": "display_data",
          "data": {
            "image/png": "[encoded data removed]",
            "text/plain": [
              "<Figure size 432x288 with 1 Axes>"
            ]
          },
          "metadata": {
            "needs_background": "light"
          }
        }
      ]
    },
    {
      "cell_type": "code",
      "metadata": {
        "colab": {
          "base_uri": "https://localhost:8080/",
          "height": 336
        },
        "id": "f920e45a-9142-4539-b06c-2dd165fc66e7",
        "outputId": "8679776c-ca45-4661-c95e-8e65066c372c"
      },
      "source": [
        "plt.figure()\n",
        "plt.boxplot(x = grouped_values[\"num_people\"], #number of peoople as the y axis instead\n",
        "           labels = unique_vehicles) \n",
        "plt.title(\"Number of people\")\n",
        "plt.show()"
      ],
      "id": "f920e45a-9142-4539-b06c-2dd165fc66e7",
      "execution_count": 6,
      "outputs": [
        {
          "output_type": "stream",
          "name": "stderr",
          "text": [
            "/usr/local/lib/python3.7/dist-packages/numpy/core/_asarray.py:83: VisibleDeprecationWarning: Creating an ndarray from ragged nested sequences (which is a list-or-tuple of lists-or-tuples-or ndarrays with different lengths or shapes) is deprecated. If you meant to do this, you must specify 'dtype=object' when creating the ndarray\n",
            "  return array(a, dtype, copy=False, order=order)\n"
          ]
        },
        {
          "output_type": "display_data",
          "data": {
            "image/png": "[encoded data removed]",
            "text/plain": [
              "<Figure size 432x288 with 1 Axes>"
            ]
          },
          "metadata": {
            "needs_background": "light"
          }
        }
      ]
    },
    {
      "cell_type": "markdown",
      "metadata": {
        "id": "4e653eac-11bd-495d-8d92-21aa318fca20"
      },
      "source": [
        "### Question\n",
        "\n",
        "Fit a logistic regression model to this data. Do the estimated coefficients make sense?\n",
        "\n",
        "[hint](https://www.statsmodels.org/stable/generated/statsmodels.formula.api.logit.html#statsmodels.formula.api.logit)\n",
        "\n",
        "### Answer\n",
        "\n",
        "We can use the `logit` function from `smf` to fit the logistic regression."
      ],
      "id": "4e653eac-11bd-495d-8d92-21aa318fca20"
    },
    {
      "cell_type": "code",
      "metadata": {
        "colab": {
          "base_uri": "https://localhost:8080/"
        },
        "id": "d3d91012-c75d-449d-a7de-740c59c2f73c",
        "outputId": "14ac0ee3-cb0b-4065-bf7b-febbb14eca68"
      },
      "source": [
        "logistic_model = smf.logit(formula=\"is_car ~ income + num_people\", data = cb_df).fit() #fit model with stats model formula, can write the equation"
      ],
      "id": "d3d91012-c75d-449d-a7de-740c59c2f73c",
      "execution_count": 7,
      "outputs": [
        {
          "output_type": "stream",
          "name": "stdout",
          "text": [
            "Optimization terminated successfully.\n",
            "         Current function value: 0.560467\n",
            "         Iterations 6\n"
          ]
        }
      ]
    },
    {
      "cell_type": "code",
      "metadata": {
        "colab": {
          "base_uri": "https://localhost:8080/",
          "height": 273
        },
        "id": "5382b47a-68ee-4e2b-b867-f1094bd0f16f",
        "outputId": "e398b806-8a17-4dce-821a-432e8eb2a125"
      },
      "source": [
        "logistic_model.summary() #print out the prediction "
      ],
      "id": "5382b47a-68ee-4e2b-b867-f1094bd0f16f",
      "execution_count": 8,
      "outputs": [
        {
          "output_type": "execute_result",
          "data": {
            "text/html": [
              "<table class=\"simpletable\">\n",
              "<caption>Logit Regression Results</caption>\n",
              "<tr>\n",
              "  <th>Dep. Variable:</th>        <td>is_car</td>      <th>  No. Observations:  </th>  <td>   122</td>  \n",
              "</tr>\n",
              "<tr>\n",
              "  <th>Model:</th>                 <td>Logit</td>      <th>  Df Residuals:      </th>  <td>   119</td>  \n",
              "</tr>\n",
              "<tr>\n",
              "  <th>Method:</th>                 <td>MLE</td>       <th>  Df Model:          </th>  <td>     2</td>  \n",
              "</tr>\n",
              "<tr>\n",
              "  <th>Date:</th>            <td>Thu, 25 Nov 2021</td> <th>  Pseudo R-squ.:     </th>  <td>0.1908</td>  \n",
              "</tr>\n",
              "<tr>\n",
              "  <th>Time:</th>                <td>12:18:24</td>     <th>  Log-Likelihood:    </th> <td> -68.377</td> \n",
              "</tr>\n",
              "<tr>\n",
              "  <th>converged:</th>             <td>True</td>       <th>  LL-Null:           </th> <td> -84.498</td> \n",
              "</tr>\n",
              "<tr>\n",
              "  <th>Covariance Type:</th>     <td>nonrobust</td>    <th>  LLR p-value:       </th> <td>9.968e-08</td>\n",
              "</tr>\n",
              "</table>\n",
              "<table class=\"simpletable\">\n",
              "<tr>\n",
              "       <td></td>         <th>coef</th>     <th>std err</th>      <th>z</th>      <th>P>|z|</th>  <th>[0.025</th>    <th>0.975]</th>  \n",
              "</tr>\n",
              "<tr>\n",
              "  <th>Intercept</th>  <td>   -2.2289</td> <td>    0.523</td> <td>   -4.263</td> <td> 0.000</td> <td>   -3.254</td> <td>   -1.204</td>\n",
              "</tr>\n",
              "<tr>\n",
              "  <th>income</th>     <td>    0.0566</td> <td>    0.013</td> <td>    4.399</td> <td> 0.000</td> <td>    0.031</td> <td>    0.082</td>\n",
              "</tr>\n",
              "<tr>\n",
              "  <th>num_people</th> <td>    0.1885</td> <td>    0.201</td> <td>    0.936</td> <td> 0.349</td> <td>   -0.206</td> <td>    0.583</td>\n",
              "</tr>\n",
              "</table>"
            ],
            "text/plain": [
              "<class 'statsmodels.iolib.summary.Summary'>\n",
              "\"\"\"\n",
              "                           Logit Regression Results                           \n",
              "==============================================================================\n",
              "Dep. Variable:                 is_car   No. Observations:                  122\n",
              "Model:                          Logit   Df Residuals:                      119\n",
              "Method:                           MLE   Df Model:                            2\n",
              "Date:                Thu, 25 Nov 2021   Pseudo R-squ.:                  0.1908\n",
              "Time:                        12:18:24   Log-Likelihood:                -68.377\n",
              "converged:                       True   LL-Null:                       -84.498\n",
              "Covariance Type:            nonrobust   LLR p-value:                 9.968e-08\n",
              "==============================================================================\n",
              "                 coef    std err          z      P>|z|      [0.025      0.975]\n",
              "------------------------------------------------------------------------------\n",
              "Intercept     -2.2289      0.523     -4.263      0.000      -3.254      -1.204\n",
              "income         0.0566      0.013      4.399      0.000       0.031       0.082\n",
              "num_people     0.1885      0.201      0.936      0.349      -0.206       0.583\n",
              "==============================================================================\n",
              "\"\"\""
            ]
          },
          "metadata": {},
          "execution_count": 8
        }
      ]
    },
    {
      "cell_type": "markdown",
      "metadata": {
        "id": "6f060d40-d52c-44f6-811f-0aa9b27d5c47"
      },
      "source": [
        "### Question\n",
        "\n",
        "For a fixed income, what change does the model predict for each additional person on the journey? What happens to the odds, what happens to the log-odds?"
      ],
      "id": "6f060d40-d52c-44f6-811f-0aa9b27d5c47"
    },
    {
      "cell_type": "markdown",
      "metadata": {
        "id": "2f99af02-b2ca-43e1-ba09-2c097dfdcb4d"
      },
      "source": [
        "### Answer\n",
        "\n",
        "$$\n",
        "\\ln\\left(\\frac{p}{1-p}\\right) = -2.2 + 0.06 \\times \\text{income} + 0.19 \\times\\text{num_people}\n",
        "$$\n",
        "\n",
        "For each additional person the *log-odds* of going by car increases by 0.19.\n",
        "\n",
        "$$\n",
        "\\frac{p}{1-p} = e^{-2.2} (e^{0.06})^{\\text{income}} + (e^{0.19})^{\\text{num_people}}\n",
        "$$\n",
        "\n",
        "For each additional person the *odds* of going by car increase by a factor of $e^{0.19}$."
      ],
      "id": "2f99af02-b2ca-43e1-ba09-2c097dfdcb4d"
    },
    {
      "cell_type": "markdown",
      "metadata": {
        "id": "9d9aef60-5d6f-4ec2-8347-bcde74b94312"
      },
      "source": [
        "### Question\n",
        "\n",
        "Write functions for logit and its inverse called `logit` and `inv_logit`.\n",
        "\n",
        "[Hint](https://en.wikipedia.org/wiki/Logit#Definition)"
      ],
      "id": "9d9aef60-5d6f-4ec2-8347-bcde74b94312"
    },
    {
      "cell_type": "markdown",
      "metadata": {
        "id": "cc9f4cbb-b7f9-4695-8095-677ee70da1f1"
      },
      "source": [
        "### Answer"
      ],
      "id": "cc9f4cbb-b7f9-4695-8095-677ee70da1f1"
    },
    {
      "cell_type": "code",
      "metadata": {
        "id": "f24f0ce9-6569-470c-b73b-e9097998760e"
      },
      "source": [
        "def logit(p):\n",
        "    return np.log(p / (1 - p)) \n",
        "\n",
        "def inv_logit(a):\n",
        "    return np.exp(a) / (np.exp(a) + 1)"
      ],
      "id": "f24f0ce9-6569-470c-b73b-e9097998760e",
      "execution_count": 9,
      "outputs": []
    },
    {
      "cell_type": "markdown",
      "metadata": {
        "id": "c9a42f06-29cb-4327-a63f-4b34a9994be4"
      },
      "source": [
        "The following snippet demonstrates one way to visualise the results of the model fit. If you have defined `logit` and `inv_logit` above this should make a sensible figure..."
      ],
      "id": "c9a42f06-29cb-4327-a63f-4b34a9994be4"
    },
    {
      "cell_type": "code",
      "metadata": {
        "colab": {
          "base_uri": "https://localhost:8080/",
          "height": 265
        },
        "id": "7841dadf-b8cf-485b-800a-70185e2632e0",
        "outputId": "1630699d-64d3-4a33-d434-14a3c7fa3fa7"
      },
      "source": [
        "prob_is_car = logistic_model.predict() #sigmoid function of probability of whether a car is used\n",
        "log_odds_is_car = logit(prob_is_car) \n",
        "\n",
        "plt.figure()\n",
        "plt.scatter(log_odds_is_car, prob_is_car, label=\"Logistic regression\") #plot the logistic model\n",
        "plt.scatter(log_odds_is_car, cb_df[\"is_car\"], label = \"Data\") #plot the real data 1 - car, 0 - train \n",
        "plt.legend()\n",
        "plt.show()"
      ],
      "id": "7841dadf-b8cf-485b-800a-70185e2632e0",
      "execution_count": 10,
      "outputs": [
        {
          "output_type": "display_data",
          "data": {
            "image/png": "[encoded data removed]",
            "text/plain": [
              "<Figure size 432x288 with 1 Axes>"
            ]
          },
          "metadata": {
            "needs_background": "light"
          }
        }
      ]
    },
    {
      "cell_type": "markdown",
      "metadata": {
        "id": "a0bbb21a-de38-4068-8f36-7976c46c8f00"
      },
      "source": [
        "### Question\n",
        "\n",
        "For journeys with 2 people, plot the probability of going by car (as opposed to train) as a function of household income. Use this figure to find out the income at which it becomes more likely they will travel by car."
      ],
      "id": "a0bbb21a-de38-4068-8f36-7976c46c8f00"
    },
    {
      "cell_type": "markdown",
      "metadata": {
        "id": "2bbf7a28-7677-4fee-825a-42e18193235a"
      },
      "source": [
        "### Answer\n",
        "\n",
        "We can evaluate the predicted probability at a range of income levels and then read off the plot that this changes at about 32.5 thousand."
      ],
      "id": "2bbf7a28-7677-4fee-825a-42e18193235a"
    },
    {
      "cell_type": "code",
      "metadata": {
        "colab": {
          "base_uri": "https://localhost:8080/",
          "height": 265
        },
        "id": "d7d1e7db-943d-4a28-a365-a154ecb6be7b",
        "outputId": "902e1be8-8914-4a9b-82df-a68d36d79745"
      },
      "source": [
        "income_vals = np.linspace(10, 70, 100) #create income data\n",
        "\n",
        "#find the intercept and beta for income and number of people, basically get the value from the summary model above  \n",
        "theta_int = logistic_model.params.Intercept \n",
        "theta_income = logistic_model.params.income\n",
        "theta_num = logistic_model.params.num_people\n",
        "\n",
        "prob_car = inv_logit(theta_int + theta_income * income_vals + theta_num * 2) #find the probabilty of going by car with 2 people\n",
        "\n",
        "plt.figure()\n",
        "plt.plot(income_vals, prob_car) #income level on x axis, y is the probabiltiy of taking a car \n",
        "plt.axhline(0.5, color='r')\n",
        "plt.axvline(32.5, color='r')\n",
        "plt.show()"
      ],
      "id": "d7d1e7db-943d-4a28-a365-a154ecb6be7b",
      "execution_count": 12,
      "outputs": [
        {
          "output_type": "display_data",
          "data": {
            "image/png": "[encoded data removed]",
            "text/plain": [
              "<Figure size 432x288 with 1 Axes>"
            ]
          },
          "metadata": {
            "needs_background": "light"
          }
        }
      ]
    },
    {
      "cell_type": "markdown",
      "metadata": {
        "id": "5a60e6f2-5b2d-441f-960c-11ace482738b"
      },
      "source": [
        "### Question\n",
        "\n",
        "Plot the probability of going by car for 1, 2, and 3 people as a function of income. What do you notice about the change in the probability as a function of income?"
      ],
      "id": "5a60e6f2-5b2d-441f-960c-11ace482738b"
    },
    {
      "cell_type": "markdown",
      "metadata": {
        "id": "bcfdeb0c-2914-43f4-b241-baeebb73a2ea"
      },
      "source": [
        "### Answer\n",
        "\n",
        "The change in probability is non-linear and depends upon the other variables. "
      ],
      "id": "bcfdeb0c-2914-43f4-b241-baeebb73a2ea"
    },
    {
      "cell_type": "code",
      "metadata": {
        "colab": {
          "base_uri": "https://localhost:8080/",
          "height": 265
        },
        "id": "ddda0064-88cf-47be-b8af-8e43827c71a2",
        "outputId": "b7f99102-ca06-4dc8-b6d4-9ae78d615366"
      },
      "source": [
        "income_vals = np.linspace(10, 70, 100)\n",
        "\n",
        "#same as above get the values \n",
        "theta_int = logistic_model.params.Intercept\n",
        "theta_income = logistic_model.params.income\n",
        "theta_num = logistic_model.params.num_people\n",
        "\n",
        "prob_car_fn = lambda n : inv_logit(theta_int + theta_income * income_vals + theta_num * n) #instead of *2 here we times by n \n",
        "\n",
        "plt.figure()\n",
        "plt.plot(income_vals, prob_car_fn(1), color='r') #probabilty of 1 person going by car\n",
        "plt.plot(income_vals, prob_car_fn(2), color='g') #probabilty of 2 person going by car\n",
        "plt.plot(income_vals, prob_car_fn(3), color='b') #probabilty of 3 person going by car\n",
        "plt.show()"
      ],
      "id": "ddda0064-88cf-47be-b8af-8e43827c71a2",
      "execution_count": 13,
      "outputs": [
        {
          "output_type": "display_data",
          "data": {
            "image/png": "[encoded data removed]",
            "text/plain": [
              "<Figure size 432x288 with 1 Axes>"
            ]
          },
          "metadata": {
            "needs_background": "light"
          }
        }
      ]
    },
    {
      "cell_type": "markdown",
      "metadata": {
        "id": "290115af-a5c7-44bb-aa4f-697de27601f6"
      },
      "source": [
        "## Bonus Example: Multiple logistic regression\n",
        "\n",
        "### Question\n",
        "\n",
        "Set up a multiple logistic regression model to predict the mode of transport used based on all of the data."
      ],
      "id": "290115af-a5c7-44bb-aa4f-697de27601f6"
    },
    {
      "cell_type": "markdown",
      "metadata": {
        "id": "790ed97e-673d-484c-a906-0c8e15db2e1a"
      },
      "source": [
        "### Answer"
      ],
      "id": "790ed97e-673d-484c-a906-0c8e15db2e1a"
    },
    {
      "cell_type": "code",
      "metadata": {
        "id": "4124405a-0c2a-434a-a858-f89a57c10d87",
        "outputId": "6828817c-b7d2-4fd9-e465-cc779849edb5"
      },
      "source": [
        "#data cleaning\n",
        "all_df = travel_df[travel_df[\"choice\"] == \"yes\"] #filter only choice is yes \n",
        "all_df = all_df[[\"mode\", \"income\", \"size\"]] #slicing df\n",
        "all_df = all_df.rename(columns={\"mode\": \"vehicle\", \"size\": \"num_people\"}) #rename column \n",
        "\n",
        "all_df[\"vehicle_int\"] = 0 #set all vehicle to 0 \n",
        "all_df.loc[all_df[\"vehicle\"] == \"air\",\"vehicle_int\"] = 1 #if vehicle is air, set to 1 \n",
        "all_df.loc[all_df[\"vehicle\"] == \"bus\",\"vehicle_int\"] = 2 #if vehicle is bus, set to 2\n",
        "all_df.loc[all_df[\"vehicle\"] == \"car\",\"vehicle_int\"] = 3 #if vehicle is car, set to 3\n",
        "all_df.loc[all_df[\"vehicle\"] == \"train\",\"vehicle_int\"] = 4 #if vehicle is train, set to 4\n",
        "all_df.vehicle.value_counts() #count the amount in each transportation "
      ],
      "id": "4124405a-0c2a-434a-a858-f89a57c10d87",
      "execution_count": null,
      "outputs": [
        {
          "data": {
            "text/plain": [
              "train    63\n",
              "car      59\n",
              "air      58\n",
              "bus      30\n",
              "Name: vehicle, dtype: int64"
            ]
          },
          "execution_count": 13,
          "metadata": {},
          "output_type": "execute_result"
        }
      ]
    },
    {
      "cell_type": "code",
      "metadata": {
        "id": "f5366cb7-937f-4ffc-ba07-6e143f3bb94c",
        "outputId": "9b3e89b5-5a67-4138-b8a0-df158ad69738"
      },
      "source": [
        "multi_logistic = smf.mnlogit(formula = \"vehicle_int ~ income + num_people\", data = all_df).fit() #write down the equation where y is vehicle_int predicted by income and number of people\n",
        "multi_logistic.summary() #print result from fitting model "
      ],
      "id": "f5366cb7-937f-4ffc-ba07-6e143f3bb94c",
      "execution_count": null,
      "outputs": [
        {
          "name": "stdout",
          "output_type": "stream",
          "text": [
            "Optimization terminated successfully.\n",
            "         Current function value: 1.206385\n",
            "         Iterations 6\n"
          ]
        },
        {
          "data": {
            "text/html": [
              "<table class=\"simpletable\">\n",
              "<caption>MNLogit Regression Results</caption>\n",
              "<tr>\n",
              "  <th>Dep. Variable:</th>      <td>vehicle_int</td>   <th>  No. Observations:  </th>  <td>   210</td>  \n",
              "</tr>\n",
              "<tr>\n",
              "  <th>Model:</th>                <td>MNLogit</td>     <th>  Df Residuals:      </th>  <td>   201</td>  \n",
              "</tr>\n",
              "<tr>\n",
              "  <th>Method:</th>                 <td>MLE</td>       <th>  Df Model:          </th>  <td>     6</td>  \n",
              "</tr>\n",
              "<tr>\n",
              "  <th>Date:</th>            <td>Wed, 24 Nov 2021</td> <th>  Pseudo R-squ.:     </th>  <td>0.1072</td>  \n",
              "</tr>\n",
              "<tr>\n",
              "  <th>Time:</th>                <td>16:42:56</td>     <th>  Log-Likelihood:    </th> <td> -253.34</td> \n",
              "</tr>\n",
              "<tr>\n",
              "  <th>converged:</th>             <td>True</td>       <th>  LL-Null:           </th> <td> -283.76</td> \n",
              "</tr>\n",
              "<tr>\n",
              "  <th>Covariance Type:</th>     <td>nonrobust</td>    <th>  LLR p-value:       </th> <td>3.044e-11</td>\n",
              "</tr>\n",
              "</table>\n",
              "<table class=\"simpletable\">\n",
              "<tr>\n",
              "  <th>vehicle_int=2</th>    <th>coef</th>     <th>std err</th>      <th>z</th>      <th>P>|z|</th>  <th>[0.025</th>    <th>0.975]</th>  \n",
              "</tr>\n",
              "<tr>\n",
              "  <th>Intercept</th>     <td>    1.0345</td> <td>    0.651</td> <td>    1.588</td> <td> 0.112</td> <td>   -0.242</td> <td>    2.311</td>\n",
              "</tr>\n",
              "<tr>\n",
              "  <th>income</th>        <td>   -0.0339</td> <td>    0.013</td> <td>   -2.618</td> <td> 0.009</td> <td>   -0.059</td> <td>   -0.009</td>\n",
              "</tr>\n",
              "<tr>\n",
              "  <th>num_people</th>    <td>   -0.3399</td> <td>    0.337</td> <td>   -1.009</td> <td> 0.313</td> <td>   -1.000</td> <td>    0.320</td>\n",
              "</tr>\n",
              "<tr>\n",
              "  <th>vehicle_int=3</th>    <th>coef</th>     <th>std err</th>      <th>z</th>      <th>P>|z|</th>  <th>[0.025</th>    <th>0.975]</th>  \n",
              "</tr>\n",
              "<tr>\n",
              "  <th>Intercept</th>     <td>   -0.9435</td> <td>    0.550</td> <td>   -1.716</td> <td> 0.086</td> <td>   -2.021</td> <td>    0.134</td>\n",
              "</tr>\n",
              "<tr>\n",
              "  <th>income</th>        <td>   -0.0035</td> <td>    0.010</td> <td>   -0.344</td> <td> 0.731</td> <td>   -0.024</td> <td>    0.017</td>\n",
              "</tr>\n",
              "<tr>\n",
              "  <th>num_people</th>    <td>    0.6006</td> <td>    0.199</td> <td>    3.015</td> <td> 0.003</td> <td>    0.210</td> <td>    0.991</td>\n",
              "</tr>\n",
              "<tr>\n",
              "  <th>vehicle_int=4</th>    <th>coef</th>     <th>std err</th>      <th>z</th>      <th>P>|z|</th>  <th>[0.025</th>    <th>0.975]</th>  \n",
              "</tr>\n",
              "<tr>\n",
              "  <th>Intercept</th>     <td>    1.5504</td> <td>    0.520</td> <td>    2.983</td> <td> 0.003</td> <td>    0.532</td> <td>    2.569</td>\n",
              "</tr>\n",
              "<tr>\n",
              "  <th>income</th>        <td>   -0.0609</td> <td>    0.012</td> <td>   -5.139</td> <td> 0.000</td> <td>   -0.084</td> <td>   -0.038</td>\n",
              "</tr>\n",
              "<tr>\n",
              "  <th>num_people</th>    <td>    0.2907</td> <td>    0.226</td> <td>    1.288</td> <td> 0.198</td> <td>   -0.152</td> <td>    0.733</td>\n",
              "</tr>\n",
              "</table>"
            ],
            "text/plain": [
              "<class 'statsmodels.iolib.summary.Summary'>\n",
              "\"\"\"\n",
              "                          MNLogit Regression Results                          \n",
              "==============================================================================\n",
              "Dep. Variable:            vehicle_int   No. Observations:                  210\n",
              "Model:                        MNLogit   Df Residuals:                      201\n",
              "Method:                           MLE   Df Model:                            6\n",
              "Date:                Wed, 24 Nov 2021   Pseudo R-squ.:                  0.1072\n",
              "Time:                        16:42:56   Log-Likelihood:                -253.34\n",
              "converged:                       True   LL-Null:                       -283.76\n",
              "Covariance Type:            nonrobust   LLR p-value:                 3.044e-11\n",
              "=================================================================================\n",
              "vehicle_int=2       coef    std err          z      P>|z|      [0.025      0.975]\n",
              "---------------------------------------------------------------------------------\n",
              "Intercept         1.0345      0.651      1.588      0.112      -0.242       2.311\n",
              "income           -0.0339      0.013     -2.618      0.009      -0.059      -0.009\n",
              "num_people       -0.3399      0.337     -1.009      0.313      -1.000       0.320\n",
              "---------------------------------------------------------------------------------\n",
              "vehicle_int=3       coef    std err          z      P>|z|      [0.025      0.975]\n",
              "---------------------------------------------------------------------------------\n",
              "Intercept        -0.9435      0.550     -1.716      0.086      -2.021       0.134\n",
              "income           -0.0035      0.010     -0.344      0.731      -0.024       0.017\n",
              "num_people        0.6006      0.199      3.015      0.003       0.210       0.991\n",
              "---------------------------------------------------------------------------------\n",
              "vehicle_int=4       coef    std err          z      P>|z|      [0.025      0.975]\n",
              "---------------------------------------------------------------------------------\n",
              "Intercept         1.5504      0.520      2.983      0.003       0.532       2.569\n",
              "income           -0.0609      0.012     -5.139      0.000      -0.084      -0.038\n",
              "num_people        0.2907      0.226      1.288      0.198      -0.152       0.733\n",
              "=================================================================================\n",
              "\"\"\""
            ]
          },
          "execution_count": 14,
          "metadata": {},
          "output_type": "execute_result"
        }
      ]
    },
    {
      "cell_type": "code",
      "metadata": {
        "id": "758c1ae2-001a-4076-b19d-f901830aa4d8"
      },
      "source": [
        ""
      ],
      "id": "758c1ae2-001a-4076-b19d-f901830aa4d8",
      "execution_count": null,
      "outputs": []
    }
  ]
}
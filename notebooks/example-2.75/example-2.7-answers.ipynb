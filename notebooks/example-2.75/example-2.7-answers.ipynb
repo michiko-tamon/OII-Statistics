{
  "nbformat": 4,
  "nbformat_minor": 5,
  "metadata": {
    "kernelspec": {
      "display_name": "Python3 - python",
      "language": "python",
      "name": "ipython_python"
    },
    "language_info": {
      "codemirror_mode": {
        "name": "ipython",
        "version": 3
      },
      "file_extension": ".py",
      "mimetype": "text/x-python",
      "name": "python",
      "nbconvert_exporter": "python",
      "pygments_lexer": "ipython3",
      "version": "3.8.9"
    },
    "colab": {
      "name": "example-2.7-answers.ipynb",
      "provenance": [],
      "include_colab_link": true
    }
  },
  "cells": [
    {
      "cell_type": "markdown",
      "metadata": {
        "id": "view-in-github",
        "colab_type": "text"
      },
      "source": [
        "<a href=\"https://colab.research.google.com/github/michiko-tamon/OII-Statistics/blob/main/notebooks/example-2.75/example-2.7-answers.ipynb\" target=\"_parent\"><img src=\"https://colab.research.google.com/assets/colab-badge.svg\" alt=\"Open In Colab\"/></a>"
      ]
    },
    {
      "cell_type": "markdown",
      "metadata": {
        "id": "a61f4b1e-5b27-4cdc-83af-1119d0f692a9"
      },
      "source": [
        "Example 2.75\n",
        "============\n",
        "\n",
        "This notebook is available on github\n",
        "[here](https://github.com/aezarebski/aas-extended-examples). If you find\n",
        "errors or would like to suggest an improvement, feel free to create an\n",
        "issue.\n",
        "\n",
        "As usual we will start by importing some useful libraries."
      ],
      "id": "a61f4b1e-5b27-4cdc-83af-1119d0f692a9"
    },
    {
      "cell_type": "code",
      "metadata": {
        "id": "abb9087e-7cbf-43fd-9fd3-6465f613cf03",
        "outputId": "883b8a50-0c98-483c-a581-1abad209b9e1",
        "colab": {
          "base_uri": "https://localhost:8080/"
        }
      },
      "source": [
        "%matplotlib inline\n",
        "import statsmodels.api as sm\n",
        "from statsmodels.graphics.mosaicplot import mosaic\n",
        "import matplotlib.pyplot as plt\n",
        "import pandas as pd\n",
        "import scipy\n",
        "import numpy as np"
      ],
      "id": "abb9087e-7cbf-43fd-9fd3-6465f613cf03",
      "execution_count": 1,
      "outputs": [
        {
          "output_type": "stream",
          "name": "stderr",
          "text": [
            "/usr/local/lib/python3.7/dist-packages/statsmodels/tools/_testing.py:19: FutureWarning: pandas.util.testing is deprecated. Use the functions in the public API at pandas.testing instead.\n",
            "  import pandas.util.testing as tm\n"
          ]
        }
      ]
    },
    {
      "cell_type": "markdown",
      "metadata": {
        "id": "65f9801b-b722-4312-b720-2edb27a6d175"
      },
      "source": [
        "Today we will look at a dataset from a double-blind clinical trial of a new treatment for rheumatoid arthritis. We will test whether treatment is correlated with a change in symptoms using a $\\chi^{2}$-test.\n",
        "\n",
        "First, we need to load the data which comes bundled with `statsmodels`."
      ],
      "id": "65f9801b-b722-4312-b720-2edb27a6d175"
    },
    {
      "cell_type": "code",
      "metadata": {
        "id": "de17ffee-8a0c-4730-949a-a7c621c5a1b5",
        "outputId": "0d1f1b9d-24d6-43a2-f28e-d12d046572e5",
        "colab": {
          "base_uri": "https://localhost:8080/",
          "height": 204
        }
      },
      "source": [
        "ra = sm.datasets.get_rdataset(\"Arthritis\", \"vcd\").data #load the data from statsmodels\n",
        "ra.head()"
      ],
      "id": "de17ffee-8a0c-4730-949a-a7c621c5a1b5",
      "execution_count": 2,
      "outputs": [
        {
          "output_type": "execute_result",
          "data": {
            "text/html": [
              "<div>\n",
              "<style scoped>\n",
              "    .dataframe tbody tr th:only-of-type {\n",
              "        vertical-align: middle;\n",
              "    }\n",
              "\n",
              "    .dataframe tbody tr th {\n",
              "        vertical-align: top;\n",
              "    }\n",
              "\n",
              "    .dataframe thead th {\n",
              "        text-align: right;\n",
              "    }\n",
              "</style>\n",
              "<table border=\"1\" class=\"dataframe\">\n",
              "  <thead>\n",
              "    <tr style=\"text-align: right;\">\n",
              "      <th></th>\n",
              "      <th>ID</th>\n",
              "      <th>Treatment</th>\n",
              "      <th>Sex</th>\n",
              "      <th>Age</th>\n",
              "      <th>Improved</th>\n",
              "    </tr>\n",
              "  </thead>\n",
              "  <tbody>\n",
              "    <tr>\n",
              "      <th>0</th>\n",
              "      <td>57</td>\n",
              "      <td>Treated</td>\n",
              "      <td>Male</td>\n",
              "      <td>27</td>\n",
              "      <td>Some</td>\n",
              "    </tr>\n",
              "    <tr>\n",
              "      <th>1</th>\n",
              "      <td>46</td>\n",
              "      <td>Treated</td>\n",
              "      <td>Male</td>\n",
              "      <td>29</td>\n",
              "      <td>None</td>\n",
              "    </tr>\n",
              "    <tr>\n",
              "      <th>2</th>\n",
              "      <td>77</td>\n",
              "      <td>Treated</td>\n",
              "      <td>Male</td>\n",
              "      <td>30</td>\n",
              "      <td>None</td>\n",
              "    </tr>\n",
              "    <tr>\n",
              "      <th>3</th>\n",
              "      <td>17</td>\n",
              "      <td>Treated</td>\n",
              "      <td>Male</td>\n",
              "      <td>32</td>\n",
              "      <td>Marked</td>\n",
              "    </tr>\n",
              "    <tr>\n",
              "      <th>4</th>\n",
              "      <td>36</td>\n",
              "      <td>Treated</td>\n",
              "      <td>Male</td>\n",
              "      <td>46</td>\n",
              "      <td>Marked</td>\n",
              "    </tr>\n",
              "  </tbody>\n",
              "</table>\n",
              "</div>"
            ],
            "text/plain": [
              "   ID Treatment   Sex  Age Improved\n",
              "0  57   Treated  Male   27     Some\n",
              "1  46   Treated  Male   29     None\n",
              "2  77   Treated  Male   30     None\n",
              "3  17   Treated  Male   32   Marked\n",
              "4  36   Treated  Male   46   Marked"
            ]
          },
          "metadata": {},
          "execution_count": 2
        }
      ]
    },
    {
      "cell_type": "markdown",
      "metadata": {
        "id": "c3729f85-5d76-4768-9c94-24533dbd34f1"
      },
      "source": [
        "### Question\n",
        "\n",
        "Use `pandas` to generate a cross tabulation of the treatment status and improvement.\n",
        "\n",
        "[hint](https://pandas.pydata.org/pandas-docs/stable/reference/api/pandas.crosstab.html)"
      ],
      "id": "c3729f85-5d76-4768-9c94-24533dbd34f1"
    },
    {
      "cell_type": "markdown",
      "metadata": {
        "id": "5c5b8269-f9cf-485a-a334-9075efafd5e7"
      },
      "source": [
        "### Answer"
      ],
      "id": "5c5b8269-f9cf-485a-a334-9075efafd5e7"
    },
    {
      "cell_type": "code",
      "metadata": {
        "id": "aa6959e1-34d2-4f4c-9783-4c756dda3407",
        "outputId": "ec335852-a794-4eb4-eec5-7791c5e93ad5",
        "colab": {
          "base_uri": "https://localhost:8080/"
        }
      },
      "source": [
        "outcome_tbl = pd.crosstab(ra.Treatment, ra.Improved) #cross table between treatment and improved \n",
        "print(outcome_tbl)"
      ],
      "id": "aa6959e1-34d2-4f4c-9783-4c756dda3407",
      "execution_count": 4,
      "outputs": [
        {
          "output_type": "stream",
          "name": "stdout",
          "text": [
            "Improved   Marked  None  Some\n",
            "Treatment                    \n",
            "Placebo         7    29     7\n",
            "Treated        21    13     7\n"
          ]
        }
      ]
    },
    {
      "cell_type": "markdown",
      "metadata": {
        "id": "e07a21a7-d039-45c8-b89f-f0051b889cab"
      },
      "source": [
        "### Question\n",
        "\n",
        "Generate a mosaic plot to display this data.\n",
        "\n",
        "[hint](https://www.statsmodels.org/dev/generated/statsmodels.graphics.mosaicplot.mosaic.html)"
      ],
      "id": "e07a21a7-d039-45c8-b89f-f0051b889cab"
    },
    {
      "cell_type": "markdown",
      "metadata": {
        "id": "57fd5d1d-97df-473f-bcd5-67430c3fe118"
      },
      "source": [
        "### Answer"
      ],
      "id": "57fd5d1d-97df-473f-bcd5-67430c3fe118"
    },
    {
      "cell_type": "code",
      "metadata": {
        "id": "07c7b300-f8a2-44e9-8bc9-0dd04f720d68",
        "outputId": "cc8d4e25-60b9-427f-e07b-695a92d98816",
        "colab": {
          "base_uri": "https://localhost:8080/",
          "height": 281
        }
      },
      "source": [
        "mosaic(ra, ['Treatment','Improved'], title = \"Arthritis Treatment\")\n",
        "plt.show() #default mosaic plot "
      ],
      "id": "07c7b300-f8a2-44e9-8bc9-0dd04f720d68",
      "execution_count": 5,
      "outputs": [
        {
          "output_type": "display_data",
          "data": {
            "image/png": "[encoded data removed]",
            "text/plain": [
              "<Figure size 432x288 with 3 Axes>"
            ]
          },
          "metadata": {
            "needs_background": "light"
          }
        }
      ]
    },
    {
      "cell_type": "markdown",
      "metadata": {
        "id": "ca90f04b-49ab-4ef8-bf96-44f926f7640f"
      },
      "source": [
        "### (Bonus) question\n",
        "\n",
        "What fundamental error does the default plot from `pandas` make?\n",
        "\n",
        "### Answer\n",
        "\n",
        "1. It uses red and green as the only colours which likely to be difficult for people with colour blindness. 5% of the population is colour blind\n",
        "2. It has not respected the implicit ordering of response values. (None > some > marked) \n",
        "3. The line between marked and none can't be seen on the placebo side\n",
        "\n",
        "The figure below makes the pattern in the data far clearer (at the expense of few lines of code)."
      ],
      "id": "ca90f04b-49ab-4ef8-bf96-44f926f7640f"
    },
    {
      "cell_type": "code",
      "metadata": {
        "id": "6f429058-2786-401f-9116-f4657113ec77",
        "outputId": "16569ce1-53d6-4723-c15e-d8ef9a84681d",
        "colab": {
          "base_uri": "https://localhost:8080/",
          "height": 281
        }
      },
      "source": [
        "#mosaic plot, detailed visualisation customisation \n",
        "ra['Improved'] = pd.Series(\n",
        "    pd.Categorical(ra.Improved, \n",
        "                 categories=['None','Some','Marked'],  #tell the graph that there is a order and what the order is \n",
        "                 ordered=True))\n",
        "\n",
        "props = lambda key: {'color': 'r' if 'a' in key else 'gray'}\n",
        "props = {}\n",
        "props[('Treated','Marked')] = {'color': '#b35806'}\n",
        "props[('Treated','Some')] = {'color': '#f1a340'}\n",
        "props[('Treated','None')] = {'color': '#fee0b6'}\n",
        "props[('Placebo','Marked')] = {'color': '#d8daeb'}\n",
        "props[('Placebo','Some')] = {'color': '#998ec3'}\n",
        "props[('Placebo','None')] = {'color': '#542788'}\n",
        "\n",
        "mosaic(ra, ['Treatment','Improved'], title = \"Arthritis Treatment\", properties=props)\n",
        "plt.show()"
      ],
      "id": "6f429058-2786-401f-9116-f4657113ec77",
      "execution_count": 6,
      "outputs": [
        {
          "output_type": "display_data",
          "data": {
            "image/png": "[encoded data removed]",
            "text/plain": [
              "<Figure size 432x288 with 3 Axes>"
            ]
          },
          "metadata": {
            "needs_background": "light"
          }
        }
      ]
    },
    {
      "cell_type": "markdown",
      "metadata": {
        "id": "cfa426fe-0491-4fad-9616-cfb652a03f08"
      },
      "source": [
        "### Question\n",
        "\n",
        "For this trial, what was the null hypothesis?"
      ],
      "id": "cfa426fe-0491-4fad-9616-cfb652a03f08"
    },
    {
      "cell_type": "markdown",
      "metadata": {
        "id": "15ac96d4-bc55-4267-b0a8-7090a7379b10"
      },
      "source": [
        "### Answer\n",
        "\n",
        "The null hypothesis is that any change in symptoms is independent of whether the patient recieved the treatment or a placebo. Or in other words, an equal amount of the amount of arthritis treatment for both people who got placebo and treated. "
      ],
      "id": "15ac96d4-bc55-4267-b0a8-7090a7379b10"
    },
    {
      "cell_type": "markdown",
      "metadata": {
        "id": "2ba24129-8d8f-4da7-be37-9923a8f19fb4"
      },
      "source": [
        "### Question\n",
        "\n",
        "Is it valid to use a $\\chi^{2}$-test for this data?"
      ],
      "id": "2ba24129-8d8f-4da7-be37-9923a8f19fb4"
    },
    {
      "cell_type": "markdown",
      "metadata": {
        "id": "b7f18c12-6320-42e2-8dd5-6a95f4240de5"
      },
      "source": [
        "### Answer\n",
        "\n",
        "We have more than 5 counts in each cell of the table, so we can use the $\\chi^{2}$-test. Be warned, some statisticians would prefer that you had at least 10 in each cell. "
      ],
      "id": "b7f18c12-6320-42e2-8dd5-6a95f4240de5"
    },
    {
      "cell_type": "markdown",
      "metadata": {
        "id": "8a9b1ac0-1615-42cf-9b57-54ffbb1a65c7"
      },
      "source": [
        "### Question\n",
        "\n",
        "How many degrees of freedom are there in this data? Degree of freedom of chi-squared tests"
      ],
      "id": "8a9b1ac0-1615-42cf-9b57-54ffbb1a65c7"
    },
    {
      "cell_type": "markdown",
      "metadata": {
        "id": "e2cf6c09-44eb-4d09-b92c-f77c9fd1d56f"
      },
      "source": [
        "### Answer\n",
        "\n",
        "Two, because there are two rows of three columns and $(2 - 1)(3 - 1) = 2$."
      ],
      "id": "e2cf6c09-44eb-4d09-b92c-f77c9fd1d56f"
    },
    {
      "cell_type": "markdown",
      "metadata": {
        "id": "b06ad182-3638-43ad-8b0d-2c2ea73b528c"
      },
      "source": [
        "### Question\n",
        "\n",
        "Perform a $\\chi^{2}$-test on the contingency table; are treatment and changes in symptoms independent?"
      ],
      "id": "b06ad182-3638-43ad-8b0d-2c2ea73b528c"
    },
    {
      "cell_type": "markdown",
      "metadata": {
        "id": "8c33f363-10b5-4343-b5bd-d5aa5a66eaef"
      },
      "source": [
        "### Answer\n",
        "\n",
        "The following code carries out the test and allows us to reject the null hypothesis."
      ],
      "id": "8c33f363-10b5-4343-b5bd-d5aa5a66eaef"
    },
    {
      "cell_type": "code",
      "metadata": {
        "id": "38bf2706-777a-48de-99a5-b676f4856aed",
        "outputId": "d65c9dcc-82a8-4fa9-801b-eef621ff5fc1",
        "colab": {
          "base_uri": "https://localhost:8080/"
        }
      },
      "source": [
        "#manually calculate chi-squared and p value by hand \n",
        "t = outcome_tbl.to_numpy()\n",
        "col_sums = np.sum(t, axis=0)\n",
        "row_sums = np.sum(t, axis=1)\n",
        "total_sum = t.sum()\n",
        "\n",
        "my_et = np.zeros((2,3))\n",
        "for ix in range(2):\n",
        "    for jx in range(3):\n",
        "        my_et[ix,jx] = col_sums[jx] * row_sums[ix] / total_sum\n",
        "\n",
        "print(\"Observed values\")\n",
        "print(t)\n",
        "print(\"Expected values under null\")\n",
        "print(my_et)\n",
        "print(\"Chi-squared statistic\")\n",
        "my_chi = (np.power(t - my_et, 2) / my_et).sum()\n",
        "print(my_chi)\n",
        "print(\"p-value\")\n",
        "print(1 - scipy.stats.chi2.cdf(my_chi, df=2))"
      ],
      "id": "38bf2706-777a-48de-99a5-b676f4856aed",
      "execution_count": 7,
      "outputs": [
        {
          "output_type": "stream",
          "name": "stdout",
          "text": [
            "Observed values\n",
            "[[ 7 29  7]\n",
            " [21 13  7]]\n",
            "Expected values under null\n",
            "[[14.33333333 21.5         7.16666667]\n",
            " [13.66666667 20.5         6.83333333]]\n",
            "Chi-squared statistic\n",
            "13.055019852524108\n",
            "p-value\n",
            "0.0014626434089526352\n"
          ]
        }
      ]
    },
    {
      "cell_type": "code",
      "metadata": {
        "id": "e326eb76-8b96-4091-8699-fd3fa7c15657",
        "outputId": "f5c514c5-08ff-450e-dee7-0b0385d51105",
        "colab": {
          "base_uri": "https://localhost:8080/"
        }
      },
      "source": [
        "# use chi^2 contigency function from scipy.stats\n",
        "chi2, p, dof, expected = scipy.stats.chi2_contingency(outcome_tbl.to_numpy())\n",
        "print(chi2) #chi^2\n",
        "print(p) #p value > small p value \n",
        "print(dof) #degree of freedom\n",
        "print(expected) #expected value under null "
      ],
      "id": "e326eb76-8b96-4091-8699-fd3fa7c15657",
      "execution_count": 8,
      "outputs": [
        {
          "output_type": "stream",
          "name": "stdout",
          "text": [
            "13.055019852524108\n",
            "0.0014626434089526504\n",
            "2\n",
            "[[14.33333333 21.5         7.16666667]\n",
            " [13.66666667 20.5         6.83333333]]\n"
          ]
        }
      ]
    },
    {
      "cell_type": "markdown",
      "metadata": {
        "id": "542cd9fa-e404-4408-99e8-1f399ae6c079"
      },
      "source": [
        "### (Bonus) Question\n",
        "\n",
        "What can we conclude from this hypothesis test? Why do we need to randomise the treatment?\n",
        "\n",
        "### Answer\n",
        "\n",
        "- We can conclude that treatment and changes in symptoms are not independent > however we cannot conclude treatment causes changes in symptoms\n",
        "- Randomisation helps avoid confounding factors which lends more credibility to the conclusion that the treatment improves the condition. \n",
        "\n",
        "Note that a proper treatment of *causality* goes well beyond the scope of this course, but recall that randomised controlled trials provide very very high quality evidence.*"
      ],
      "id": "542cd9fa-e404-4408-99e8-1f399ae6c079"
    },
    {
      "cell_type": "markdown",
      "metadata": {
        "id": "6ab4e426-f050-4c58-9b2c-19cfd89b5b6f"
      },
      "source": [
        "Recall from earlier notebooks the function `estimate_and_ci` which computes the probability of success in repeated Bernoulli trials and the $95\\%$ confidence interval on this estimate."
      ],
      "id": "6ab4e426-f050-4c58-9b2c-19cfd89b5b6f"
    },
    {
      "cell_type": "code",
      "metadata": {
        "id": "bbf97501-455e-42fd-b4ca-85804deed44f"
      },
      "source": [
        "def estimate_and_ci(num_trials, num_success):\n",
        "    p_hat = num_success / num_trials\n",
        "    z = 1.96\n",
        "    delta = z * np.sqrt(p_hat * (1 - p_hat) / num_trials)\n",
        "    return (p_hat,(p_hat - delta, p_hat + delta))"
      ],
      "id": "bbf97501-455e-42fd-b4ca-85804deed44f",
      "execution_count": 9,
      "outputs": []
    },
    {
      "cell_type": "markdown",
      "metadata": {
        "id": "74bf03e8-b3e0-4fb0-9d7e-3ad40b583773"
      },
      "source": [
        "The functions `rand_small_table` and `rand_big_table` defined below return random datasets of the same shape as out arthritis dataset under the null hypothesis in which the outcome is independent of treatment. The `rand_small_table` returns data from a smaller cohort and the `rand_big_table` returns data from a larger cohort. "
      ],
      "id": "74bf03e8-b3e0-4fb0-9d7e-3ad40b583773"
    },
    {
      "cell_type": "code",
      "metadata": {
        "id": "52e68788-f037-4a9c-a7e2-286857eef4f7"
      },
      "source": [
        "_, _, _, expected = scipy.stats.chi2_contingency(outcome_tbl.to_numpy())\n",
        "\n",
        "def rand_small_table(): #get small table of random dataset \n",
        "    x = np.array(0)\n",
        "    while x.min() < 1:\n",
        "        x = scipy.stats.poisson.rvs(mu = np.array(0.5) * expected)\n",
        "    return x\n",
        "\n",
        "def rand_big_table(): #get big table of random dataset \n",
        "    x = np.array(0)\n",
        "    while x.min() < 1:\n",
        "        x = scipy.stats.poisson.rvs(mu = np.array(1.5) * expected)\n",
        "    return x"
      ],
      "id": "52e68788-f037-4a9c-a7e2-286857eef4f7",
      "execution_count": 10,
      "outputs": []
    },
    {
      "cell_type": "markdown",
      "metadata": {
        "id": "0eabddc5-8a23-414b-b8a0-90d74fe55312"
      },
      "source": [
        "### Question\n",
        "\n",
        "Using the functions `estimate_and_ci`, and `rand_small_table` and `rand_big_table`, demonstrate how the $\\chi^{2}$-test will fail if the cell values are too small i.e. there has to be enough values in each row/column for the chi^2 test to be fair."
      ],
      "id": "0eabddc5-8a23-414b-b8a0-90d74fe55312"
    },
    {
      "cell_type": "markdown",
      "metadata": {
        "id": "ba3bc109-4977-4153-9105-859d114228e5"
      },
      "source": [
        "### Answer\n",
        "\n",
        "The false positive test suggests that the test will not be powerful enough on smaller tables."
      ],
      "id": "ba3bc109-4977-4153-9105-859d114228e5"
    },
    {
      "cell_type": "code",
      "metadata": {
        "id": "748f2fb8-1627-44e7-8f9d-09b2d0af4b2f",
        "outputId": "dd33332a-7810-4d45-ec8c-8c77f274c52d",
        "colab": {
          "base_uri": "https://localhost:8080/"
        }
      },
      "source": [
        "num_trials = 10000\n",
        "false_pos_count = 0\n",
        "for _ in range(num_trials):\n",
        "    x = rand_small_table()\n",
        "    _, p, _, _ = scipy.stats.chi2_contingency(x)\n",
        "    if p < 0.1:\n",
        "        false_pos_count+=1 \n",
        "print(estimate_and_ci(num_trials, false_pos_count))"
      ],
      "id": "748f2fb8-1627-44e7-8f9d-09b2d0af4b2f",
      "execution_count": 11,
      "outputs": [
        {
          "output_type": "stream",
          "name": "stdout",
          "text": [
            "(0.0839, (0.07846613939391155, 0.08933386060608846))\n"
          ]
        }
      ]
    }
  ]
}
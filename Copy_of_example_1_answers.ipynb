{
  "nbformat": 4,
  "nbformat_minor": 0,
  "metadata": {
    "kernelspec": {
      "display_name": "Python 3",
      "language": "python",
      "name": "python3"
    },
    "language_info": {
      "codemirror_mode": {
        "name": "ipython",
        "version": 3
      },
      "file_extension": ".py",
      "mimetype": "text/x-python",
      "name": "python",
      "nbconvert_exporter": "python",
      "pygments_lexer": "ipython3",
      "version": "3.9.4"
    },
    "colab": {
      "name": "Copy of example-1-answers.ipynb",
      "provenance": [],
      "include_colab_link": true
    }
  },
  "cells": [
    {
      "cell_type": "markdown",
      "metadata": {
        "id": "view-in-github",
        "colab_type": "text"
      },
      "source": [
        "<a href=\"https://colab.research.google.com/github/michiko-tamon/OII-Statistics/blob/gg-collab/Copy_of_example_1_answers.ipynb\" target=\"_parent\"><img src=\"https://colab.research.google.com/assets/colab-badge.svg\" alt=\"Open In Colab\"/></a>"
      ]
    },
    {
      "cell_type": "markdown",
      "metadata": {
        "id": "pCoJwc_FL3ZL"
      },
      "source": [
        "Example 1\n",
        "========="
      ]
    },
    {
      "cell_type": "markdown",
      "metadata": {
        "id": "LldTsUQJL3ZN"
      },
      "source": [
        "This notebook is available on github\n",
        "[here](https://github.com/aezarebski/aas-extended-examples). If you find\n",
        "errors or would like to suggest an improvement, feel free to create an\n",
        "issue.\n",
        "\n",
        "As usual we will start by importing some useful libraries."
      ]
    },
    {
      "cell_type": "code",
      "metadata": {
        "id": "Vpa_W66AL3ZP"
      },
      "source": [
        "import pandas as pd\n",
        "import numpy as np\n",
        "import scipy.stats as stats\n",
        "import matplotlib.pyplot as plt"
      ],
      "execution_count": 1,
      "outputs": []
    },
    {
      "cell_type": "code",
      "metadata": {
        "id": "fPkqlaRaTeyi",
        "outputId": "0a35c076-bf86-4dc3-f197-ba721a5295a6",
        "colab": {
          "base_uri": "https://localhost:8080/",
          "height": 419
        }
      },
      "source": [
        "df = pd.DataFrame(np.random.randint(0,100,size=(100, 4)), columns=list('ABCD'))\n",
        "#random integer from 0 to 100 \n",
        "#100 rows and 4 columns \n",
        "#each column called A B C D\n",
        "df"
      ],
      "execution_count": 7,
      "outputs": [
        {
          "output_type": "execute_result",
          "data": {
            "text/html": [
              "<div>\n",
              "<style scoped>\n",
              "    .dataframe tbody tr th:only-of-type {\n",
              "        vertical-align: middle;\n",
              "    }\n",
              "\n",
              "    .dataframe tbody tr th {\n",
              "        vertical-align: top;\n",
              "    }\n",
              "\n",
              "    .dataframe thead th {\n",
              "        text-align: right;\n",
              "    }\n",
              "</style>\n",
              "<table border=\"1\" class=\"dataframe\">\n",
              "  <thead>\n",
              "    <tr style=\"text-align: right;\">\n",
              "      <th></th>\n",
              "      <th>A</th>\n",
              "      <th>B</th>\n",
              "      <th>C</th>\n",
              "      <th>D</th>\n",
              "    </tr>\n",
              "  </thead>\n",
              "  <tbody>\n",
              "    <tr>\n",
              "      <th>0</th>\n",
              "      <td>86</td>\n",
              "      <td>21</td>\n",
              "      <td>5</td>\n",
              "      <td>37</td>\n",
              "    </tr>\n",
              "    <tr>\n",
              "      <th>1</th>\n",
              "      <td>54</td>\n",
              "      <td>36</td>\n",
              "      <td>54</td>\n",
              "      <td>47</td>\n",
              "    </tr>\n",
              "    <tr>\n",
              "      <th>2</th>\n",
              "      <td>15</td>\n",
              "      <td>77</td>\n",
              "      <td>95</td>\n",
              "      <td>19</td>\n",
              "    </tr>\n",
              "    <tr>\n",
              "      <th>3</th>\n",
              "      <td>92</td>\n",
              "      <td>51</td>\n",
              "      <td>19</td>\n",
              "      <td>92</td>\n",
              "    </tr>\n",
              "    <tr>\n",
              "      <th>4</th>\n",
              "      <td>28</td>\n",
              "      <td>46</td>\n",
              "      <td>74</td>\n",
              "      <td>65</td>\n",
              "    </tr>\n",
              "    <tr>\n",
              "      <th>...</th>\n",
              "      <td>...</td>\n",
              "      <td>...</td>\n",
              "      <td>...</td>\n",
              "      <td>...</td>\n",
              "    </tr>\n",
              "    <tr>\n",
              "      <th>95</th>\n",
              "      <td>40</td>\n",
              "      <td>16</td>\n",
              "      <td>24</td>\n",
              "      <td>5</td>\n",
              "    </tr>\n",
              "    <tr>\n",
              "      <th>96</th>\n",
              "      <td>13</td>\n",
              "      <td>61</td>\n",
              "      <td>18</td>\n",
              "      <td>29</td>\n",
              "    </tr>\n",
              "    <tr>\n",
              "      <th>97</th>\n",
              "      <td>96</td>\n",
              "      <td>76</td>\n",
              "      <td>74</td>\n",
              "      <td>44</td>\n",
              "    </tr>\n",
              "    <tr>\n",
              "      <th>98</th>\n",
              "      <td>67</td>\n",
              "      <td>63</td>\n",
              "      <td>46</td>\n",
              "      <td>0</td>\n",
              "    </tr>\n",
              "    <tr>\n",
              "      <th>99</th>\n",
              "      <td>47</td>\n",
              "      <td>58</td>\n",
              "      <td>0</td>\n",
              "      <td>3</td>\n",
              "    </tr>\n",
              "  </tbody>\n",
              "</table>\n",
              "<p>100 rows × 4 columns</p>\n",
              "</div>"
            ],
            "text/plain": [
              "     A   B   C   D\n",
              "0   86  21   5  37\n",
              "1   54  36  54  47\n",
              "2   15  77  95  19\n",
              "3   92  51  19  92\n",
              "4   28  46  74  65\n",
              "..  ..  ..  ..  ..\n",
              "95  40  16  24   5\n",
              "96  13  61  18  29\n",
              "97  96  76  74  44\n",
              "98  67  63  46   0\n",
              "99  47  58   0   3\n",
              "\n",
              "[100 rows x 4 columns]"
            ]
          },
          "metadata": {},
          "execution_count": 7
        }
      ]
    },
    {
      "cell_type": "code",
      "metadata": {
        "id": "DaEy1OQ1QW_h",
        "outputId": "d469de03-99b2-417e-edb3-645dae7232d4",
        "colab": {
          "base_uri": "https://localhost:8080/"
        }
      },
      "source": [
        "hpw_quantiles = dict(df['B'].quantile([0.25,0.5,0.75]))\n",
        "#from column B find the 0.25, 0.5 and 0.75 quantile \n",
        "hpw_quantiles"
      ],
      "execution_count": 6,
      "outputs": [
        {
          "output_type": "execute_result",
          "data": {
            "text/plain": [
              "{0.25: 16.0, 0.5: 43.0, 0.75: 72.0}"
            ]
          },
          "metadata": {},
          "execution_count": 6
        }
      ]
    },
    {
      "cell_type": "markdown",
      "metadata": {
        "id": "XqWzXyO7L3ZR"
      },
      "source": [
        "Central limit theorem\n",
        "---------------------\n",
        "\n",
        "The central limit theorem (CLT) tells us about the limiting distribution\n",
        "of the sample mean for distribution for an independent and identically\n",
        "distributed (IID) sample with a finite variance. It underpins many\n",
        "results in statistics and is important for reasoning about stochastic\n",
        "processes."
      ]
    },
    {
      "cell_type": "markdown",
      "metadata": {
        "id": "ik95dY-CL3ZR"
      },
      "source": [
        "### Question\n",
        "\n",
        "Explain in simple terms what is the Central Limit Theorem?"
      ]
    },
    {
      "cell_type": "markdown",
      "metadata": {
        "id": "gbSgIwO2L3ZS"
      },
      "source": [
        "### Answer\n",
        "\n",
        "-   $\\hat{X}$ converges to $\\mu$.\n",
        "-   $\\sqrt{n}(\\hat{X} - \\mu) / \\sigma$ converges in distribution to the\n",
        "    standard normal distribution as the sample size increases.\n",
        "-   The LLN (law of last number) tells you what the limiting value is, the CLT tells you about the fluctuations in the estimate."
      ]
    },
    {
      "cell_type": "markdown",
      "metadata": {
        "id": "H0mzqjmBL3ZS"
      },
      "source": [
        "Example: CLT\n",
        "------------\n",
        "\n",
        "To see that the distribution of the sample mean converges to a normal\n",
        "distribution we will do a simulation study."
      ]
    },
    {
      "cell_type": "markdown",
      "metadata": {
        "id": "an_hTcf7L3ZU"
      },
      "source": [
        "### Question\n",
        "\n",
        "Write down the distribution of the sample mean given an IID (independent and identically distributed random variable) sample of\n",
        "exponential random variables with rate $1/5$."
      ]
    },
    {
      "cell_type": "code",
      "metadata": {
        "id": "Y5kwTeiIOW2y"
      },
      "source": [
        "mean = stats.expon.rvs(scale = 1/5, size =10000).mean()\n",
        "#exponential continuous random variable \n",
        "sd = stats.expon.rvs(scale = 5, size =10000).std()"
      ],
      "execution_count": 14,
      "outputs": []
    },
    {
      "cell_type": "markdown",
      "metadata": {
        "id": "ReVNqZdsL3ZU"
      },
      "source": [
        "### Answer\n",
        "\n",
        "-   The mean of the exponential distribution is 5.\n",
        "-   The standard deviation of the exponential distribution is 5\n",
        "-   The CLT tells us the limiting distribution for the sample mean is\n",
        "    $N\\left(5,\\frac{5^2}{n}\\right)$"
      ]
    },
    {
      "cell_type": "markdown",
      "metadata": {
        "id": "t1m424_3L3ZV"
      },
      "source": [
        "### Question\n",
        "\n",
        "1.  Generate 500 sample means each based on a sample of 100 exponential\n",
        "    random variables\n",
        "2.  Make a visualisation of the distribution of the data (e.g., a KDE or\n",
        "    histogram) and overlay the CLT approximation."
      ]
    },
    {
      "cell_type": "markdown",
      "metadata": {
        "id": "uNvqckFQL3ZW"
      },
      "source": [
        "### Answer"
      ]
    },
    {
      "cell_type": "code",
      "metadata": {
        "id": "9kDHx1zaQpwM",
        "colab": {
          "base_uri": "https://localhost:8080/",
          "height": 282
        },
        "outputId": "5a029743-f24b-43bd-986b-8e6e24244d37"
      },
      "source": [
        "my_expo_vals = stats.expon.rvs(scale = 5, size =100) #generate 100 exponential random variable \n",
        "\n",
        "#generate variables \n",
        "my_x_val = np.linspace(start = 0, stop = 20, num=50) #50 linear space between 0 to 20\n",
        "#find the exponential pdf \n",
        "my_pdf_vals = stats.expon.pdf(x = my_x_val, scale = 5) #plot exponential value of the x \n",
        "\n",
        "#original exponential histogram \n",
        "plt.figure()\n",
        "plt.hist(my_expo_vals)\n",
        "plt.plot(my_pdf_vals, color = 'r')"
      ],
      "execution_count": 18,
      "outputs": [
        {
          "output_type": "execute_result",
          "data": {
            "text/plain": [
              "[<matplotlib.lines.Line2D at 0x7fed7d36a410>]"
            ]
          },
          "metadata": {},
          "execution_count": 18
        },
        {
          "output_type": "display_data",
          "data": {
            "image/png": "[encoded data removed]",
            "text/plain": [
              "<Figure size 432x288 with 1 Axes>"
            ]
          },
          "metadata": {
            "needs_background": "light"
          }
        }
      ]
    },
    {
      "cell_type": "code",
      "metadata": {
        "id": "YybRV9gYP-qQ",
        "colab": {
          "base_uri": "https://localhost:8080/"
        },
        "outputId": "41f6c880-cd9e-4515-a86d-751304678b8b"
      },
      "source": [
        "import scipy.stats as stats\n",
        "stats.expon.rvs(scale = 5, size =100).mean() #find the mean of randomly generated exponential values "
      ],
      "execution_count": 19,
      "outputs": [
        {
          "output_type": "execute_result",
          "data": {
            "text/plain": [
              "5.632413594272574"
            ]
          },
          "metadata": {},
          "execution_count": 19
        }
      ]
    },
    {
      "cell_type": "code",
      "metadata": {
        "id": "2z_a4_c5L3ZX",
        "colab": {
          "base_uri": "https://localhost:8080/",
          "height": 279
        },
        "outputId": "01e3d6f3-35d9-4be6-ac98-4a712b90ab9e"
      },
      "source": [
        "sample_size = 500\n",
        "num_replicates = 500 \n",
        "\n",
        "sample_means = [stats.expon.rvs(scale = 5, size = sample_size).mean() #find 500 mean of randomly generated exponential variables \n",
        "                for _ in range(num_replicates)] #do this 500 times\n",
        "\n",
        "plot_df = pd.DataFrame({\"sample_mean\": sample_means}) #change the sample mean into a dataframe \n",
        "\n",
        "mesh_size = 200\n",
        "\n",
        "x_vals = np.linspace(3, 7, num=200) \n",
        "\n",
        "clt_scale = 5 / np.sqrt(sample_size) #mean divided by square root of sample size \n",
        "\n",
        "clt_df = pd.DataFrame( #create central limit theorem df \n",
        "    {\n",
        "        \"x\": x_vals, #x values are random numbers created in linear space \n",
        "        \"pdf\": stats.norm.pdf(x_vals, loc = 5, scale = clt_scale) #mean = loc and scale = variance, plot normal values of x \n",
        "    }\n",
        ")\n",
        "\n",
        "plt.figure() \n",
        "plt.hist(plot_df.sample_mean, density=True,  color=\"blue\") #plot the histogram of the sample mean > goes to normal curve \n",
        "plt.plot(clt_df.x, clt_df.pdf, color=\"red\", linewidth=5) #plotting the normal curve \n",
        "plt.xlabel(\"Sample mean\")\n",
        "plt.ylabel(\"Density\")\n",
        "plt.show()"
      ],
      "execution_count": 20,
      "outputs": [
        {
          "output_type": "display_data",
          "data": {
            "image/png": "[encoded data removed]",
            "text/plain": [
              "<Figure size 432x288 with 1 Axes>"
            ]
          },
          "metadata": {
            "needs_background": "light"
          }
        }
      ]
    },
    {
      "cell_type": "markdown",
      "metadata": {
        "id": "tlEgW2MrL3ZZ"
      },
      "source": [
        "Estimating the mean of a small sample\n",
        "-------------------------------------\n",
        "\n",
        "If we have a sample from a normal distribution with sample mean $\\bar{x}$ and known the standard deviation, $\\sigma$, the $(1-\\alpha)100\\%$ CI for the estimate of the mean is\n",
        "\n",
        "$$\n",
        "\\bar{x} \\pm z_{\\alpha / 2} \\frac{\\sigma}{\\sqrt{n}}\n",
        "$$"
      ]
    },
    {
      "cell_type": "markdown",
      "metadata": {
        "id": "twHFeSDnL3Za"
      },
      "source": [
        "### Question\n",
        "\n",
        "Simulate a set of 5 draws from a $N(1,1)$ distribution and, assuming the standard deviation is known, check if the $95\\%$ CI contains the true mean."
      ]
    },
    {
      "cell_type": "markdown",
      "metadata": {
        "id": "SlCp9oq2L3Za"
      },
      "source": [
        "### Answer"
      ]
    },
    {
      "cell_type": "code",
      "metadata": {
        "id": "BSYeTML6L3Za",
        "colab": {
          "base_uri": "https://localhost:8080/"
        },
        "outputId": "2ac8c209-61d5-4a15-fde4-2094d51961c5"
      },
      "source": [
        "def f1():\n",
        "    n = 5 #sample size is 5 \n",
        "    x_bar = stats.norm.rvs(loc = 1.0, scale = 1.0, size = n).mean() #generate 5 normally distributed random variable and calculate mean \n",
        "    z_a2 = stats.norm.ppf(0.975) #percentage point function, takes a percentage and returns a standard deviation multiplier for what value that percentage occurs at i.e. Z value\n",
        "    #'One-tail test' on the density plot\n",
        "    lower_lim = x_bar - z_a2 * 1.0 / np.sqrt(n) #lower CI limit \n",
        "    upper_lim = x_bar + z_a2 * 1.0 / np.sqrt(n) #upper CI limit \n",
        "    return lower_lim <= 1 and 1 <= upper_lim\n",
        "\n",
        "print(f1())"
      ],
      "execution_count": 22,
      "outputs": [
        {
          "output_type": "stream",
          "name": "stdout",
          "text": [
            "1.959963984540054\n",
            "True\n"
          ]
        }
      ]
    },
    {
      "cell_type": "markdown",
      "metadata": {
        "id": "znTXzfB9L3Zb"
      },
      "source": [
        "### Question\n",
        "\n",
        "Now repeat this process 1000 times and check how many times it contains the true mean. Do you think the coverage of the CI will be correct?"
      ]
    },
    {
      "cell_type": "markdown",
      "metadata": {
        "id": "GRKmPJhzL3Zb"
      },
      "source": [
        "### Answer\n",
        "\n",
        "Because we have used the correct standard deviation this should get the coverage correct."
      ]
    },
    {
      "cell_type": "code",
      "metadata": {
        "id": "31HetstKL3Zc",
        "colab": {
          "base_uri": "https://localhost:8080/"
        },
        "outputId": "3756cfc7-e863-4ab9-f3b7-aeac567ff339"
      },
      "source": [
        "good_ci_count = 0\n",
        "for _ in range(1000): #loop 1000 times and run the function created to check whether value falls in CI \n",
        "    if f1(): #if f1() is True add 1 to count\n",
        "        good_ci_count += 1 \n",
        "print(good_ci_count / 1000) #take a look at out of 1000 times how many times it equals the true mean "
      ],
      "execution_count": null,
      "outputs": [
        {
          "output_type": "stream",
          "name": "stdout",
          "text": [
            "0.951\n"
          ]
        }
      ]
    },
    {
      "cell_type": "markdown",
      "metadata": {
        "id": "AlsWXibpL3Zc"
      },
      "source": [
        "### Question\n",
        "\n",
        "Now repeat this 1000-fold repetition using the sample standard deviation instead of the true standard deviation but treat it as though it is known, ie continue with $z_{\\alpha / 2}$. Do you think the coverage of the CI will be correct?"
      ]
    },
    {
      "cell_type": "markdown",
      "metadata": {
        "id": "3MDLWDDeL3Zc"
      },
      "source": [
        "### Answer\n",
        "\n",
        "Because we have not accounted for the additional uncertainty our CI will be too small and the coverage of the CI will not be as high as desired."
      ]
    },
    {
      "cell_type": "code",
      "metadata": {
        "id": "K0FU5ZASL3Zd",
        "outputId": "f3369ee1-bcbf-4b3e-a80c-f64597ad0702"
      },
      "source": [
        "def f2():\n",
        "    n = 5\n",
        "    random_sample = stats.norm.rvs(loc = 1.0, scale = 1.0, size = n)\n",
        "    x_bar = random_sample.mean()\n",
        "    s = np.sqrt(np.sum((random_sample - x_bar)**2) / (n-1)) # change SD to be from sample\n",
        "    z_a2 = stats.norm.ppf(0.975) #find z value\n",
        "    lower_lim = x_bar - z_a2 * s / np.sqrt(n)\n",
        "    upper_lim = x_bar + z_a2 * s / np.sqrt(n)\n",
        "    return lower_lim <= 1 and 1 <= upper_lim\n",
        "\n",
        "good_ci_count = 0\n",
        "for _ in range(1000):\n",
        "    if f2():\n",
        "        good_ci_count += 1\n",
        "print(good_ci_count / 1000)\n",
        "#confidence interval is too small so it did not capture enough range of real mean >> less than 95% "
      ],
      "execution_count": null,
      "outputs": [
        {
          "name": "stdout",
          "output_type": "stream",
          "text": [
            "0.888\n"
          ]
        }
      ]
    },
    {
      "cell_type": "markdown",
      "metadata": {
        "id": "QygINSeHL3Ze"
      },
      "source": [
        "### Question\n",
        "\n",
        "Now repeat this process while accounting for the uncertainty in the standard deviation, ie use the $t_{\\alpha / 2}$. How many degrees of freedom are there in the _t_-distribution? Do you think the coverage of the CI will be correct?"
      ]
    },
    {
      "cell_type": "markdown",
      "metadata": {
        "id": "BGNO9zWuL3Ze"
      },
      "source": [
        "### Answer\n",
        "\n",
        "We use $n-1 = 4$ degrees of freedom in the _t_-distribution. The coverage should be correct because we are using the correct model."
      ]
    },
    {
      "cell_type": "code",
      "metadata": {
        "id": "D9Ek_BqeL3Ze",
        "outputId": "0b78356b-bd8e-4792-8e56-6677338739e9"
      },
      "source": [
        "def f3():\n",
        "    n = 5\n",
        "    random_sample = stats.norm.rvs(loc = 1.0, scale = 1.0, size = n)\n",
        "    x_bar = random_sample.mean()\n",
        "    s = np.sqrt(np.sum((random_sample - x_bar)**2) / (n-1)) #need to use n-1 as the degree of freedom to find new SD\n",
        "    # here we use the t-distribution to understand the uncertainty > not sure about the variance  \n",
        "    df = n - 1\n",
        "    t_a2 = stats.t.ppf(0.975, df) #find t value instead of z\n",
        "    lower_lim = x_bar - t_a2 * s / np.sqrt(n)\n",
        "    upper_lim = x_bar + t_a2 * s / np.sqrt(n)\n",
        "    return lower_lim <= 1 and 1 <= upper_lim\n",
        "\n",
        "good_ci_count = 0\n",
        "for _ in range(1000):\n",
        "    if f3():\n",
        "        good_ci_count += 1\n",
        "print(good_ci_count / 1000)"
      ],
      "execution_count": null,
      "outputs": [
        {
          "name": "stdout",
          "output_type": "stream",
          "text": [
            "0.947\n"
          ]
        }
      ]
    },
    {
      "cell_type": "markdown",
      "metadata": {
        "id": "F7GUhfWHL3Zf"
      },
      "source": [
        "Testing the hypothesis that a coin is fair\n",
        "------------------------------------------\n",
        "\n",
        "There is an election to choose between candidate _A_ and candidate _B_. To win the election a candidate needs to get the majority of the votes. Candidate _B_ declared victory but there is suspicion that they cheated. A random sample of $n$ ballots had $m$ votes for _A_. We want to know if we can reject the null hypothesis that _B_ did in fact win."
      ]
    },
    {
      "cell_type": "markdown",
      "metadata": {
        "id": "vZYCFjlSL3Zf"
      },
      "source": [
        "### Question\n",
        "\n",
        "Would we reject the null if $n=100$ and $m=70$? "
      ]
    },
    {
      "cell_type": "markdown",
      "metadata": {
        "id": "JZn9sVW0L3Zg"
      },
      "source": [
        "### Answer\n",
        "\n",
        "The null hypothesis is $H_{0}: p_{B} > 1/2$. We can model the number of votes for _B_ as a binomial random variable with $n=100$ and $p=0.5$ and see how likely it is that _B_ got no more than 30 votes.\n",
        "\n",
        "The probability that _B_ got no more than 30 votes even if $p=0.5$ is very small. At a significancy level of $0.05$ we could reject the null hypothesis that _B_ did actually win."
      ]
    },
    {
      "cell_type": "code",
      "metadata": {
        "id": "eO4MzWrNL3Zg",
        "outputId": "30f353e5-d687-44c9-a084-bff4b27c7d07"
      },
      "source": [
        "stats.binom.cdf(k = 30, n = 100, p = 0.5) #bionomial distribution "
      ],
      "execution_count": null,
      "outputs": [
        {
          "data": {
            "text/plain": [
              "3.925069822796833e-05"
            ]
          },
          "execution_count": 7,
          "metadata": {},
          "output_type": "execute_result"
        }
      ]
    },
    {
      "cell_type": "markdown",
      "metadata": {
        "id": "Gs039_2kL3Zg"
      },
      "source": [
        "### Question\n",
        "\n",
        "If $n=100$, how small would $m$ need to be for us to not be able to reject the null using this test?"
      ]
    },
    {
      "cell_type": "markdown",
      "metadata": {
        "id": "FxJ5oEevL3Zh"
      },
      "source": [
        "### Answer\n",
        "\n",
        "If there were at least 42 votes for _B_, this test would not reject the null."
      ]
    },
    {
      "cell_type": "code",
      "metadata": {
        "id": "m8VfSkumL3Zh",
        "outputId": "531c0eb2-570f-4e6d-ca28-c424b875d5b4"
      },
      "source": [
        "print(stats.binom.ppf(0.05, n = 100, p = 0.5))\n",
        "print(stats.binom.cdf(k = 41, n = 100, p = 0.5))\n",
        "print(stats.binom.cdf(k = 42, n = 100, p = 0.5))"
      ],
      "execution_count": null,
      "outputs": [
        {
          "name": "stdout",
          "output_type": "stream",
          "text": [
            "42.0\n",
            "0.04431304005703377\n",
            "0.06660530960360676\n"
          ]
        }
      ]
    },
    {
      "cell_type": "markdown",
      "metadata": {
        "id": "GytaR3etL3Zh"
      },
      "source": [
        "Parameter estimation of the binomial distribution\n",
        "-------------------------------------------------\n",
        "\n",
        "We want to make an *estimate* the probability that a coin comes up\n",
        "heads. We also want to understand the level of confidence we have in\n",
        "this estimate; we use a *confidence interval* (CI) to describe the range\n",
        "of values we are confident the \\\"true\\\" probability of heads lies\n",
        "within.\n",
        "\n",
        "Binomial random variables can be used to model the number of times a\n",
        "coin comes up heads when flipped $n$ times. Let $X$ be a binomial random\n",
        "variable (RV) representing the number of heads that are observed when a\n",
        "coin is flipped $n$ times and the probability of coming up heads is $p$.\n",
        "We assume that $n$ is known but $p$ is unknown.\n",
        "\n",
        "The expected value of $X$, ie the average number of times that the coin\n",
        "comes up heads, is $np$. So a simple way to estimate $p$ is to divide\n",
        "the number of heads, $X$, by the number of flips, $n$. This gives the\n",
        "estimate\n",
        "\n",
        "$$\n",
        "\\hat{p} = X / n.\n",
        "$$\n",
        "\n",
        "This estimator is called the [the method of\n",
        "moments](https://en.wikipedia.org/wiki/Method_of_moments_(statistics)). This is\n",
        "also an example of a maximum likelihood estimate (MLE).\n",
        "\n",
        "Given an estimator, such as $\\hat{p}$, we usually want to quantify the\n",
        "uncertainty. One way to construct a CI is to approximate the sampling\n",
        "distribution by a normal distribution. It is a bit crude, but it is acceptable\n",
        "when we have lots of data. The estimated standard error of $\\hat{p}$ is\n",
        "$\\sqrt{\\hat{p}(1-\\hat{p})/n}$, so the CI is given by\n",
        "\n",
        "$$\n",
        "\\hat{p} \\pm z \\sqrt{\\frac{\\hat{p}(1-\\hat{p})}{n}}\n",
        "$$\n",
        "\n",
        "where $z$ is the appropriate quantile of the standard normal distribution. In\n",
        "the case of a $95\\%$ distribution this value is $1.96$."
      ]
    },
    {
      "cell_type": "markdown",
      "metadata": {
        "id": "59CeAVSLL3Zi"
      },
      "source": [
        "### Question\n",
        "\n",
        "State the limitations on the estimator we are using for the CI."
      ]
    },
    {
      "cell_type": "markdown",
      "metadata": {
        "id": "azkN2DOTL3Zi"
      },
      "source": [
        "### Answer\n",
        "\n",
        "The estimate assumes you have enough data to justify an asymptotic\n",
        "solution so is unlikely to be accurate for small datasets."
      ]
    },
    {
      "cell_type": "markdown",
      "metadata": {
        "id": "4FmEz5iaL3Zi"
      },
      "source": [
        "### Question\n",
        "\n",
        "Implement a function called `estimate_and_ci` which takes two\n",
        "arguments: `num_trials` which is $n$ in the description above, and\n",
        "`num_success` which is $X$ above. The function should return\n",
        "`(p_hat,(ci_lower,ci_upper))` where `p_hat` is $\\hat{p}$ and\n",
        "`ci_x` are the limits of the $95\\%$ CI."
      ]
    },
    {
      "cell_type": "markdown",
      "metadata": {
        "id": "VyGP2vOlL3Zi"
      },
      "source": [
        "### Answer"
      ]
    },
    {
      "cell_type": "code",
      "metadata": {
        "id": "N2Bi8eX-L3Zj"
      },
      "source": [
        "def estimate_and_ci(num_trials, num_success):\n",
        "    p_hat = num_success / num_trials\n",
        "    z = 1.96\n",
        "    delta = z * np.sqrt(p_hat * (1 - p_hat) / num_trials)\n",
        "    return (p_hat,(p_hat - delta, p_hat + delta))"
      ],
      "execution_count": null,
      "outputs": []
    },
    {
      "cell_type": "markdown",
      "metadata": {
        "id": "5D7hnch9L3Zj"
      },
      "source": [
        "### Question\n",
        "\n",
        "Simulate a binomial random variable with $n=100$ and $p=0.6$. Then use\n",
        "the value and the `estimate_and_ci` function to see how well you\n",
        "can estimate $p$. Write a couple of sentences to explain this.\n",
        "\n",
        "Recall that in a previous example we have looked at how to simulate\n",
        "random variables using `scipy.stats`."
      ]
    },
    {
      "cell_type": "markdown",
      "metadata": {
        "id": "apKjG1AaL3Zj"
      },
      "source": [
        "### Question\n",
        "\n",
        "Repeat the process from the previous question 100000 times and see what\n",
        "proportion of the CIs capture the true value of $p$. Is it what you\n",
        "expect? Write a couple of sentences to explain what you found."
      ]
    },
    {
      "cell_type": "markdown",
      "metadata": {
        "id": "K8YUW-BWL3Zj"
      },
      "source": [
        "### Answer"
      ]
    },
    {
      "cell_type": "code",
      "metadata": {
        "id": "Ss8YS1PkL3Zk",
        "outputId": "fe0b7628-ab7e-48b6-8134-0c5bf5408ec0"
      },
      "source": [
        "num_trials = 100\n",
        "num_repeats = 100000\n",
        "rand_xs = stats.binom.rvs(n = num_trials, p = 0.6, size = num_repeats)\n",
        "\n",
        "def ci_contains_value(ci, p):\n",
        "    lower,upper = ci\n",
        "    return lower < p and p < upper\n",
        "\n",
        "in_ci_count = 0\n",
        "for x in rand_xs:\n",
        "    _, ci = estimate_and_ci(num_trials, x)\n",
        "    if ci_contains_value(ci, 0.6):\n",
        "        in_ci_count += 1\n",
        "\n",
        "print(in_ci_count / num_repeats)"
      ],
      "execution_count": null,
      "outputs": [
        {
          "name": "stdout",
          "output_type": "stream",
          "text": [
            "0.94717\n"
          ]
        }
      ]
    },
    {
      "cell_type": "code",
      "metadata": {
        "id": "9Mr2t_5KL3Zk"
      },
      "source": [
        ""
      ],
      "execution_count": null,
      "outputs": []
    }
  ]
}